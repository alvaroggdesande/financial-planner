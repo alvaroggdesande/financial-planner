{
 "cells": [
  {
   "cell_type": "code",
   "execution_count": 6,
   "metadata": {},
   "outputs": [],
   "source": [
    "import pandas as pd\n",
    "from pathlib import Path\n"
   ]
  },
  {
   "cell_type": "code",
   "execution_count": 7,
   "metadata": {},
   "outputs": [],
   "source": [
    "MAIN_PATH = Path(r\"C:\\Users\\ag\\alvaro\\git\\financial_planner\")\n",
    "BANK_DATA_PATH = MAIN_PATH / \"bank_statements\"\n",
    "NORDEA_PATH = BANK_DATA_PATH / \"nordea\"\n",
    "DANSKE_PATH = BANK_DATA_PATH / \"danske\""
   ]
  },
  {
   "cell_type": "code",
   "execution_count": 8,
   "metadata": {},
   "outputs": [
    {
     "name": "stdout",
     "output_type": "stream",
     "text": [
      "<class 'pandas.core.frame.DataFrame'>\n",
      "RangeIndex: 1212 entries, 0 to 1211\n",
      "Data columns (total 19 columns):\n",
      " #   Column          Non-Null Count  Dtype  \n",
      "---  ------          --------------  -----  \n",
      " 0   Booking date    546 non-null    object \n",
      " 1   Amount          546 non-null    object \n",
      " 2   Sender          513 non-null    float64\n",
      " 3   Recipient       33 non-null     float64\n",
      " 4   Name            0 non-null      float64\n",
      " 5   Title           546 non-null    object \n",
      " 6   Balance         546 non-null    object \n",
      " 7   Currency        546 non-null    object \n",
      " 8   Reconciled      0 non-null      float64\n",
      " 9   Unnamed: 9      0 non-null      float64\n",
      " 10  Bogføringsdato  666 non-null    object \n",
      " 11  Beløb           666 non-null    object \n",
      " 12  Afsender        626 non-null    float64\n",
      " 13  Modtager        40 non-null     float64\n",
      " 14  Navn            12 non-null     object \n",
      " 15  Beskrivelse     666 non-null    object \n",
      " 16  Saldo           665 non-null    object \n",
      " 17  Valuta          666 non-null    object \n",
      " 18  Afstemt         0 non-null      float64\n",
      "dtypes: float64(8), object(11)\n",
      "memory usage: 180.0+ KB\n"
     ]
    }
   ],
   "source": [
    "all_dfs = []\n",
    "for file in sorted(NORDEA_PATH.glob(\"*.csv\")):\n",
    "    df = pd.read_csv(file, sep=';')\n",
    "    all_dfs.append(df)\n",
    "\n",
    "nordea_df = pd.concat(all_dfs, ignore_index=True)\n",
    "nordea_df.info()"
   ]
  },
  {
   "cell_type": "code",
   "execution_count": 9,
   "metadata": {},
   "outputs": [
    {
     "name": "stdout",
     "output_type": "stream",
     "text": [
      "<class 'pandas.core.frame.DataFrame'>\n",
      "RangeIndex: 546 entries, 0 to 545\n",
      "Data columns (total 7 columns):\n",
      " #   Column             Non-Null Count  Dtype  \n",
      "---  ------             --------------  -----  \n",
      " 0   Booking date       545 non-null    object \n",
      " 1   Amount             546 non-null    float64\n",
      " 2   Title              546 non-null    object \n",
      " 3   Balance            546 non-null    float64\n",
      " 4   Currency           546 non-null    object \n",
      " 5   Positive_negative  546 non-null    object \n",
      " 6   TypeExpense        240 non-null    object \n",
      "dtypes: float64(2), object(5)\n",
      "memory usage: 30.0+ KB\n"
     ]
    }
   ],
   "source": [
    "all_dfs = []\n",
    "for file in sorted(DANSKE_PATH.glob(\"*.csv\")):\n",
    "    df = pd.read_csv(file, sep=',')\n",
    "    all_dfs.append(df)\n",
    "\n",
    "danske_df = pd.concat(all_dfs, ignore_index=True)\n",
    "danske_df.info()"
   ]
  },
  {
   "cell_type": "code",
   "execution_count": 10,
   "metadata": {},
   "outputs": [
    {
     "data": {
      "text/plain": [
       "TypeExpense\n",
       "Groceries    173\n",
       "Salary        19\n",
       "Sports        14\n",
       "Rent          14\n",
       "Household      8\n",
       "Transport      6\n",
       "Utilities      3\n",
       "Shopping       2\n",
       "Internet       1\n",
       "Name: count, dtype: int64"
      ]
     },
     "execution_count": 10,
     "metadata": {},
     "output_type": "execute_result"
    }
   ],
   "source": [
    "danske_df['TypeExpense'].value_counts()"
   ]
  },
  {
   "cell_type": "code",
   "execution_count": null,
   "metadata": {},
   "outputs": [],
   "source": []
  }
 ],
 "metadata": {
  "kernelspec": {
   "display_name": "venv_fin",
   "language": "python",
   "name": "python3"
  },
  "language_info": {
   "codemirror_mode": {
    "name": "ipython",
    "version": 3
   },
   "file_extension": ".py",
   "mimetype": "text/x-python",
   "name": "python",
   "nbconvert_exporter": "python",
   "pygments_lexer": "ipython3",
   "version": "3.11.9"
  }
 },
 "nbformat": 4,
 "nbformat_minor": 2
}
