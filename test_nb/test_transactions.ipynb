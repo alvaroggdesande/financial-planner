{
 "cells": [
  {
   "cell_type": "code",
   "execution_count": 1,
   "metadata": {},
   "outputs": [],
   "source": [
    "import pandas as pd\n",
    "pd.set_option('display.max_colwidth', None)   # or use -1 on older pandas versions\n",
    "pd.set_option('display.width', 200)           # or some large integer\n",
    "pd.set_option('display.max_columns', None)    # show all columns rather than “…” \n",
    "from pathlib import Path\n",
    "\n",
    "MAIN_PATH = Path(r\"C:\\Users\\ag\\alvaro\\git\\financial_planner\")\n",
    "BANK_DATA_PATH = MAIN_PATH / \"bank_statements\"\n",
    "NORDEA_PATH = BANK_DATA_PATH / \"nordea\"\n",
    "DANSKE_PATH = BANK_DATA_PATH / \"danske\""
   ]
  },
  {
   "cell_type": "code",
   "execution_count": 2,
   "metadata": {},
   "outputs": [],
   "source": [
    "from datetime import datetime, date\n",
    "import plotly.express as px\n",
    "\n",
    "import sys\n",
    "PROJECT_ROOT = MAIN_PATH\n",
    "sys.path.append(str(PROJECT_ROOT)) # Add project root to path\n",
    "from src.data_loader import process_bank_data_folders, load_and_standardize_one_transaction_file\n",
    "from src.categorizer import categorize_transactions_df, CATEGORY_RULES # Import your rules too\n",
    "from src.utils import convert_currency_in_df"
   ]
  },
  {
   "cell_type": "code",
   "execution_count": 3,
   "metadata": {},
   "outputs": [
    {
     "name": "stdout",
     "output_type": "stream",
     "text": [
      "Nordea shape: (546, 7)\n"
     ]
    },
    {
     "data": {
      "text/html": [
       "<div>\n",
       "<style scoped>\n",
       "    .dataframe tbody tr th:only-of-type {\n",
       "        vertical-align: middle;\n",
       "    }\n",
       "\n",
       "    .dataframe tbody tr th {\n",
       "        vertical-align: top;\n",
       "    }\n",
       "\n",
       "    .dataframe thead th {\n",
       "        text-align: right;\n",
       "    }\n",
       "</style>\n",
       "<table border=\"1\" class=\"dataframe\">\n",
       "  <thead>\n",
       "    <tr style=\"text-align: right;\">\n",
       "      <th></th>\n",
       "      <th>Date</th>\n",
       "      <th>Description</th>\n",
       "      <th>Amount</th>\n",
       "      <th>Balance</th>\n",
       "      <th>Currency</th>\n",
       "      <th>Original_Bank</th>\n",
       "      <th>Status</th>\n",
       "    </tr>\n",
       "  </thead>\n",
       "  <tbody>\n",
       "    <tr>\n",
       "      <th>0</th>\n",
       "      <td>NaT</td>\n",
       "      <td>IKEA COPENHAGEN   DYBBOE</td>\n",
       "      <td>-1697.00</td>\n",
       "      <td>720112.30</td>\n",
       "      <td>DKK</td>\n",
       "      <td>Nordea</td>\n",
       "      <td>Reserved</td>\n",
       "    </tr>\n",
       "    <tr>\n",
       "      <th>1</th>\n",
       "      <td>2024-01-22</td>\n",
       "      <td>COOP365 SLUSEHOLMEN Den 19.01</td>\n",
       "      <td>-218.75</td>\n",
       "      <td>721809.30</td>\n",
       "      <td>DKK</td>\n",
       "      <td>Nordea</td>\n",
       "      <td>Booked</td>\n",
       "    </tr>\n",
       "    <tr>\n",
       "      <th>2</th>\n",
       "      <td>2024-01-19</td>\n",
       "      <td>COOP365 SLUSEHOLMEN Den 17.01</td>\n",
       "      <td>-83.87</td>\n",
       "      <td>722028.05</td>\n",
       "      <td>DKK</td>\n",
       "      <td>Nordea</td>\n",
       "      <td>Booked</td>\n",
       "    </tr>\n",
       "    <tr>\n",
       "      <th>3</th>\n",
       "      <td>2024-01-19</td>\n",
       "      <td>Nordea pay, . COOP365 METROPOLEN   Den 17.01</td>\n",
       "      <td>-18.00</td>\n",
       "      <td>722111.92</td>\n",
       "      <td>DKK</td>\n",
       "      <td>Nordea</td>\n",
       "      <td>Booked</td>\n",
       "    </tr>\n",
       "    <tr>\n",
       "      <th>4</th>\n",
       "      <td>2024-01-19</td>\n",
       "      <td>Nordea pay køb, . IKEA.DK          Den 17.01</td>\n",
       "      <td>-8536.00</td>\n",
       "      <td>722129.92</td>\n",
       "      <td>DKK</td>\n",
       "      <td>Nordea</td>\n",
       "      <td>Booked</td>\n",
       "    </tr>\n",
       "  </tbody>\n",
       "</table>\n",
       "</div>"
      ],
      "text/plain": [
       "        Date                                   Description   Amount    Balance Currency Original_Bank    Status\n",
       "0        NaT                      IKEA COPENHAGEN   DYBBOE -1697.00  720112.30      DKK        Nordea  Reserved\n",
       "1 2024-01-22                 COOP365 SLUSEHOLMEN Den 19.01  -218.75  721809.30      DKK        Nordea    Booked\n",
       "2 2024-01-19                 COOP365 SLUSEHOLMEN Den 17.01   -83.87  722028.05      DKK        Nordea    Booked\n",
       "3 2024-01-19  Nordea pay, . COOP365 METROPOLEN   Den 17.01   -18.00  722111.92      DKK        Nordea    Booked\n",
       "4 2024-01-19  Nordea pay køb, . IKEA.DK          Den 17.01 -8536.00  722129.92      DKK        Nordea    Booked"
      ]
     },
     "metadata": {},
     "output_type": "display_data"
    },
    {
     "name": "stdout",
     "output_type": "stream",
     "text": [
      "Danske shape: (546, 7)\n"
     ]
    },
    {
     "data": {
      "text/html": [
       "<div>\n",
       "<style scoped>\n",
       "    .dataframe tbody tr th:only-of-type {\n",
       "        vertical-align: middle;\n",
       "    }\n",
       "\n",
       "    .dataframe tbody tr th {\n",
       "        vertical-align: top;\n",
       "    }\n",
       "\n",
       "    .dataframe thead th {\n",
       "        text-align: right;\n",
       "    }\n",
       "</style>\n",
       "<table border=\"1\" class=\"dataframe\">\n",
       "  <thead>\n",
       "    <tr style=\"text-align: right;\">\n",
       "      <th></th>\n",
       "      <th>Date</th>\n",
       "      <th>Description</th>\n",
       "      <th>Amount</th>\n",
       "      <th>Balance</th>\n",
       "      <th>Currency</th>\n",
       "      <th>Original_Bank</th>\n",
       "      <th>Status</th>\n",
       "    </tr>\n",
       "  </thead>\n",
       "  <tbody>\n",
       "    <tr>\n",
       "      <th>0</th>\n",
       "      <td>NaT</td>\n",
       "      <td>IKEA COPENHAGEN   DYBBOE</td>\n",
       "      <td>-1697.00</td>\n",
       "      <td>720112.30</td>\n",
       "      <td>DKK</td>\n",
       "      <td>Danske Bank</td>\n",
       "      <td>Pending/Unknown</td>\n",
       "    </tr>\n",
       "    <tr>\n",
       "      <th>1</th>\n",
       "      <td>2024-01-22</td>\n",
       "      <td>COOP365 SLUSEHOLMEN Den 19.01</td>\n",
       "      <td>-218.75</td>\n",
       "      <td>721809.30</td>\n",
       "      <td>DKK</td>\n",
       "      <td>Danske Bank</td>\n",
       "      <td>Booked</td>\n",
       "    </tr>\n",
       "    <tr>\n",
       "      <th>2</th>\n",
       "      <td>2024-01-19</td>\n",
       "      <td>COOP365 SLUSEHOLMEN Den 17.01</td>\n",
       "      <td>-83.87</td>\n",
       "      <td>722028.05</td>\n",
       "      <td>DKK</td>\n",
       "      <td>Danske Bank</td>\n",
       "      <td>Booked</td>\n",
       "    </tr>\n",
       "    <tr>\n",
       "      <th>3</th>\n",
       "      <td>2024-01-19</td>\n",
       "      <td>Nordea pay, . COOP365 METROPOLEN   Den 17.01</td>\n",
       "      <td>-18.00</td>\n",
       "      <td>722111.92</td>\n",
       "      <td>DKK</td>\n",
       "      <td>Danske Bank</td>\n",
       "      <td>Booked</td>\n",
       "    </tr>\n",
       "    <tr>\n",
       "      <th>4</th>\n",
       "      <td>2024-01-19</td>\n",
       "      <td>Nordea pay køb, . IKEA.DK          Den 17.01</td>\n",
       "      <td>-8536.00</td>\n",
       "      <td>722129.92</td>\n",
       "      <td>DKK</td>\n",
       "      <td>Danske Bank</td>\n",
       "      <td>Booked</td>\n",
       "    </tr>\n",
       "  </tbody>\n",
       "</table>\n",
       "</div>"
      ],
      "text/plain": [
       "        Date                                   Description   Amount    Balance Currency Original_Bank           Status\n",
       "0        NaT                      IKEA COPENHAGEN   DYBBOE -1697.00  720112.30      DKK   Danske Bank  Pending/Unknown\n",
       "1 2024-01-22                 COOP365 SLUSEHOLMEN Den 19.01  -218.75  721809.30      DKK   Danske Bank           Booked\n",
       "2 2024-01-19                 COOP365 SLUSEHOLMEN Den 17.01   -83.87  722028.05      DKK   Danske Bank           Booked\n",
       "3 2024-01-19  Nordea pay, . COOP365 METROPOLEN   Den 17.01   -18.00  722111.92      DKK   Danske Bank           Booked\n",
       "4 2024-01-19  Nordea pay køb, . IKEA.DK          Den 17.01 -8536.00  722129.92      DKK   Danske Bank           Booked"
      ]
     },
     "metadata": {},
     "output_type": "display_data"
    }
   ],
   "source": [
    "# Example paths—adjust to wherever you actually stored your CSVs:\n",
    "nordea_csv = PROJECT_ROOT / \"bank_statements/nordea/Grundkonto 3499420845 - 2024-01-21 19.29.04.csv\"\n",
    "danske_csv = PROJECT_ROOT / \"bank_statements/danske/b_dashboard.csv\"\n",
    "\n",
    "# 2a. Load Nordea file\n",
    "df_nordea = load_and_standardize_one_transaction_file(nordea_csv, bank_name=\"nordea\")\n",
    "print(\"Nordea shape:\", df_nordea.shape)\n",
    "display(df_nordea.head())\n",
    "\n",
    "# 2b. Load Danske file\n",
    "df_danske = load_and_standardize_one_transaction_file(danske_csv, bank_name=\"danske\")\n",
    "print(\"Danske shape:\", df_danske.shape)\n",
    "display(df_danske.head())"
   ]
  },
  {
   "cell_type": "code",
   "execution_count": 4,
   "metadata": {},
   "outputs": [
    {
     "data": {
      "text/html": [
       "<div>\n",
       "<style scoped>\n",
       "    .dataframe tbody tr th:only-of-type {\n",
       "        vertical-align: middle;\n",
       "    }\n",
       "\n",
       "    .dataframe tbody tr th {\n",
       "        vertical-align: top;\n",
       "    }\n",
       "\n",
       "    .dataframe thead th {\n",
       "        text-align: right;\n",
       "    }\n",
       "</style>\n",
       "<table border=\"1\" class=\"dataframe\">\n",
       "  <thead>\n",
       "    <tr style=\"text-align: right;\">\n",
       "      <th></th>\n",
       "      <th>Date</th>\n",
       "      <th>Description</th>\n",
       "      <th>Amount</th>\n",
       "      <th>Balance</th>\n",
       "      <th>Currency</th>\n",
       "      <th>Original_Bank</th>\n",
       "      <th>Status</th>\n",
       "    </tr>\n",
       "  </thead>\n",
       "  <tbody>\n",
       "    <tr>\n",
       "      <th>0</th>\n",
       "      <td>NaT</td>\n",
       "      <td>IKEA COPENHAGEN   DYBBOE</td>\n",
       "      <td>-1697.00</td>\n",
       "      <td>720112.30</td>\n",
       "      <td>DKK</td>\n",
       "      <td>Nordea</td>\n",
       "      <td>Reserved</td>\n",
       "    </tr>\n",
       "    <tr>\n",
       "      <th>1</th>\n",
       "      <td>2024-01-22</td>\n",
       "      <td>COOP365 SLUSEHOLMEN Den 19.01</td>\n",
       "      <td>-218.75</td>\n",
       "      <td>721809.30</td>\n",
       "      <td>DKK</td>\n",
       "      <td>Nordea</td>\n",
       "      <td>Booked</td>\n",
       "    </tr>\n",
       "    <tr>\n",
       "      <th>2</th>\n",
       "      <td>2024-01-19</td>\n",
       "      <td>COOP365 SLUSEHOLMEN Den 17.01</td>\n",
       "      <td>-83.87</td>\n",
       "      <td>722028.05</td>\n",
       "      <td>DKK</td>\n",
       "      <td>Nordea</td>\n",
       "      <td>Booked</td>\n",
       "    </tr>\n",
       "    <tr>\n",
       "      <th>3</th>\n",
       "      <td>2024-01-19</td>\n",
       "      <td>Nordea pay, . COOP365 METROPOLEN   Den 17.01</td>\n",
       "      <td>-18.00</td>\n",
       "      <td>722111.92</td>\n",
       "      <td>DKK</td>\n",
       "      <td>Nordea</td>\n",
       "      <td>Booked</td>\n",
       "    </tr>\n",
       "    <tr>\n",
       "      <th>4</th>\n",
       "      <td>2024-01-19</td>\n",
       "      <td>Nordea pay køb, . IKEA.DK          Den 17.01</td>\n",
       "      <td>-8536.00</td>\n",
       "      <td>722129.92</td>\n",
       "      <td>DKK</td>\n",
       "      <td>Nordea</td>\n",
       "      <td>Booked</td>\n",
       "    </tr>\n",
       "  </tbody>\n",
       "</table>\n",
       "</div>"
      ],
      "text/plain": [
       "        Date                                   Description   Amount    Balance Currency Original_Bank    Status\n",
       "0        NaT                      IKEA COPENHAGEN   DYBBOE -1697.00  720112.30      DKK        Nordea  Reserved\n",
       "1 2024-01-22                 COOP365 SLUSEHOLMEN Den 19.01  -218.75  721809.30      DKK        Nordea    Booked\n",
       "2 2024-01-19                 COOP365 SLUSEHOLMEN Den 17.01   -83.87  722028.05      DKK        Nordea    Booked\n",
       "3 2024-01-19  Nordea pay, . COOP365 METROPOLEN   Den 17.01   -18.00  722111.92      DKK        Nordea    Booked\n",
       "4 2024-01-19  Nordea pay køb, . IKEA.DK          Den 17.01 -8536.00  722129.92      DKK        Nordea    Booked"
      ]
     },
     "execution_count": 4,
     "metadata": {},
     "output_type": "execute_result"
    }
   ],
   "source": [
    "df_nordea.head()"
   ]
  },
  {
   "cell_type": "code",
   "execution_count": 5,
   "metadata": {},
   "outputs": [
    {
     "name": "stdout",
     "output_type": "stream",
     "text": [
      "Combined before dedupe: (1212, 7)\n"
     ]
    },
    {
     "data": {
      "text/html": [
       "<div>\n",
       "<style scoped>\n",
       "    .dataframe tbody tr th:only-of-type {\n",
       "        vertical-align: middle;\n",
       "    }\n",
       "\n",
       "    .dataframe tbody tr th {\n",
       "        vertical-align: top;\n",
       "    }\n",
       "\n",
       "    .dataframe thead th {\n",
       "        text-align: right;\n",
       "    }\n",
       "</style>\n",
       "<table border=\"1\" class=\"dataframe\">\n",
       "  <thead>\n",
       "    <tr style=\"text-align: right;\">\n",
       "      <th></th>\n",
       "      <th>Date</th>\n",
       "      <th>Description</th>\n",
       "      <th>Amount</th>\n",
       "      <th>Balance</th>\n",
       "      <th>Currency</th>\n",
       "      <th>Original_Bank</th>\n",
       "      <th>Status</th>\n",
       "    </tr>\n",
       "  </thead>\n",
       "  <tbody>\n",
       "    <tr>\n",
       "      <th>0</th>\n",
       "      <td>NaT</td>\n",
       "      <td>IKEA COPENHAGEN   DYBBOE</td>\n",
       "      <td>-1697.00</td>\n",
       "      <td>720112.30</td>\n",
       "      <td>DKK</td>\n",
       "      <td>Nordea</td>\n",
       "      <td>Reserved</td>\n",
       "    </tr>\n",
       "    <tr>\n",
       "      <th>1</th>\n",
       "      <td>2024-01-22</td>\n",
       "      <td>COOP365 SLUSEHOLMEN Den 19.01</td>\n",
       "      <td>-218.75</td>\n",
       "      <td>721809.30</td>\n",
       "      <td>DKK</td>\n",
       "      <td>Nordea</td>\n",
       "      <td>Booked</td>\n",
       "    </tr>\n",
       "    <tr>\n",
       "      <th>2</th>\n",
       "      <td>2024-01-19</td>\n",
       "      <td>COOP365 SLUSEHOLMEN Den 17.01</td>\n",
       "      <td>-83.87</td>\n",
       "      <td>722028.05</td>\n",
       "      <td>DKK</td>\n",
       "      <td>Nordea</td>\n",
       "      <td>Booked</td>\n",
       "    </tr>\n",
       "    <tr>\n",
       "      <th>3</th>\n",
       "      <td>2024-01-19</td>\n",
       "      <td>Nordea pay, . COOP365 METROPOLEN   Den 17.01</td>\n",
       "      <td>-18.00</td>\n",
       "      <td>722111.92</td>\n",
       "      <td>DKK</td>\n",
       "      <td>Nordea</td>\n",
       "      <td>Booked</td>\n",
       "    </tr>\n",
       "    <tr>\n",
       "      <th>4</th>\n",
       "      <td>2024-01-19</td>\n",
       "      <td>Nordea pay køb, . IKEA.DK          Den 17.01</td>\n",
       "      <td>-8536.00</td>\n",
       "      <td>722129.92</td>\n",
       "      <td>DKK</td>\n",
       "      <td>Nordea</td>\n",
       "      <td>Booked</td>\n",
       "    </tr>\n",
       "  </tbody>\n",
       "</table>\n",
       "</div>"
      ],
      "text/plain": [
       "        Date                                   Description   Amount    Balance Currency Original_Bank    Status\n",
       "0        NaT                      IKEA COPENHAGEN   DYBBOE -1697.00  720112.30      DKK        Nordea  Reserved\n",
       "1 2024-01-22                 COOP365 SLUSEHOLMEN Den 19.01  -218.75  721809.30      DKK        Nordea    Booked\n",
       "2 2024-01-19                 COOP365 SLUSEHOLMEN Den 17.01   -83.87  722028.05      DKK        Nordea    Booked\n",
       "3 2024-01-19  Nordea pay, . COOP365 METROPOLEN   Den 17.01   -18.00  722111.92      DKK        Nordea    Booked\n",
       "4 2024-01-19  Nordea pay køb, . IKEA.DK          Den 17.01 -8536.00  722129.92      DKK        Nordea    Booked"
      ]
     },
     "execution_count": 5,
     "metadata": {},
     "output_type": "execute_result"
    }
   ],
   "source": [
    "file_list = [\n",
    "    (PROJECT_ROOT / \"bank_statements/nordea/Grundkonto 3499420845 - 2024-01-21 19.29.04.csv\", \"nordea\"),\n",
    "    (PROJECT_ROOT / \"bank_statements/nordea/Konto 3499420845 - 2025-06-05 10.14.07.csv\", \"nordea2\"),\n",
    "    #(PROJECT_ROOT / \"bank_statements/danske/b_dashboard.csv\", \"danske\"),\n",
    "\n",
    "]\n",
    "\n",
    "all_dfs = []\n",
    "for path, bank in file_list:\n",
    "    df = load_and_standardize_one_transaction_file(path, bank_name=bank)\n",
    "    if not df.empty:\n",
    "        all_dfs.append(df)\n",
    "\n",
    "# concatenate\n",
    "combined = pd.concat(all_dfs, ignore_index=True) if all_dfs else pd.DataFrame()\n",
    "print(\"Combined before dedupe:\", combined.shape)\n",
    "df_all = combined.copy()\n",
    "df_all.head()"
   ]
  },
  {
   "cell_type": "code",
   "execution_count": 6,
   "metadata": {},
   "outputs": [
    {
     "data": {
      "text/html": [
       "<div>\n",
       "<style scoped>\n",
       "    .dataframe tbody tr th:only-of-type {\n",
       "        vertical-align: middle;\n",
       "    }\n",
       "\n",
       "    .dataframe tbody tr th {\n",
       "        vertical-align: top;\n",
       "    }\n",
       "\n",
       "    .dataframe thead th {\n",
       "        text-align: right;\n",
       "    }\n",
       "</style>\n",
       "<table border=\"1\" class=\"dataframe\">\n",
       "  <thead>\n",
       "    <tr style=\"text-align: right;\">\n",
       "      <th></th>\n",
       "      <th>Date</th>\n",
       "      <th>Description</th>\n",
       "      <th>Amount</th>\n",
       "      <th>Balance</th>\n",
       "      <th>Currency</th>\n",
       "      <th>Original_Bank</th>\n",
       "      <th>Status</th>\n",
       "      <th>Category</th>\n",
       "    </tr>\n",
       "  </thead>\n",
       "  <tbody>\n",
       "    <tr>\n",
       "      <th>0</th>\n",
       "      <td>NaT</td>\n",
       "      <td>IKEA COPENHAGEN   DYBBOE</td>\n",
       "      <td>-1697.00</td>\n",
       "      <td>720112.30</td>\n",
       "      <td>DKK</td>\n",
       "      <td>Nordea</td>\n",
       "      <td>Reserved</td>\n",
       "      <td>Household</td>\n",
       "    </tr>\n",
       "    <tr>\n",
       "      <th>1</th>\n",
       "      <td>2024-01-22</td>\n",
       "      <td>COOP365 SLUSEHOLMEN Den 19.01</td>\n",
       "      <td>-218.75</td>\n",
       "      <td>721809.30</td>\n",
       "      <td>DKK</td>\n",
       "      <td>Nordea</td>\n",
       "      <td>Booked</td>\n",
       "      <td>Groceries</td>\n",
       "    </tr>\n",
       "    <tr>\n",
       "      <th>2</th>\n",
       "      <td>2024-01-19</td>\n",
       "      <td>COOP365 SLUSEHOLMEN Den 17.01</td>\n",
       "      <td>-83.87</td>\n",
       "      <td>722028.05</td>\n",
       "      <td>DKK</td>\n",
       "      <td>Nordea</td>\n",
       "      <td>Booked</td>\n",
       "      <td>Groceries</td>\n",
       "    </tr>\n",
       "    <tr>\n",
       "      <th>3</th>\n",
       "      <td>2024-01-19</td>\n",
       "      <td>Nordea pay, . COOP365 METROPOLEN   Den 17.01</td>\n",
       "      <td>-18.00</td>\n",
       "      <td>722111.92</td>\n",
       "      <td>DKK</td>\n",
       "      <td>Nordea</td>\n",
       "      <td>Booked</td>\n",
       "      <td>Groceries</td>\n",
       "    </tr>\n",
       "    <tr>\n",
       "      <th>4</th>\n",
       "      <td>2024-01-19</td>\n",
       "      <td>Nordea pay køb, . IKEA.DK          Den 17.01</td>\n",
       "      <td>-8536.00</td>\n",
       "      <td>722129.92</td>\n",
       "      <td>DKK</td>\n",
       "      <td>Nordea</td>\n",
       "      <td>Booked</td>\n",
       "      <td>Household</td>\n",
       "    </tr>\n",
       "  </tbody>\n",
       "</table>\n",
       "</div>"
      ],
      "text/plain": [
       "        Date                                   Description   Amount    Balance Currency Original_Bank    Status   Category\n",
       "0        NaT                      IKEA COPENHAGEN   DYBBOE -1697.00  720112.30      DKK        Nordea  Reserved  Household\n",
       "1 2024-01-22                 COOP365 SLUSEHOLMEN Den 19.01  -218.75  721809.30      DKK        Nordea    Booked  Groceries\n",
       "2 2024-01-19                 COOP365 SLUSEHOLMEN Den 17.01   -83.87  722028.05      DKK        Nordea    Booked  Groceries\n",
       "3 2024-01-19  Nordea pay, . COOP365 METROPOLEN   Den 17.01   -18.00  722111.92      DKK        Nordea    Booked  Groceries\n",
       "4 2024-01-19  Nordea pay køb, . IKEA.DK          Den 17.01 -8536.00  722129.92      DKK        Nordea    Booked  Household"
      ]
     },
     "execution_count": 6,
     "metadata": {},
     "output_type": "execute_result"
    }
   ],
   "source": [
    "df_all = categorize_transactions_df(df_all, CATEGORY_RULES)\n",
    "df_all.head()"
   ]
  },
  {
   "cell_type": "code",
   "execution_count": 7,
   "metadata": {},
   "outputs": [
    {
     "data": {
      "text/plain": [
       "array(['Nordea pay køb, . MOBILEPAY        Den 03.06',\n",
       "       'EUR 260,50          Peters Brauhaus GmbH',\n",
       "       'EUR 140,00          IMF FORMACION', 'MobilePay Vasileios',\n",
       "       'Nordea pay køb, . OEENS HAVE APS   Den 15.09',\n",
       "       'Nordea pay udbetaling DKK 628,95   transact  22208873',\n",
       "       'Vipps MobilePay', 'EUR 66,00           NUNOYA SL',\n",
       "       'Nordea pay køb, . MARAMAO          Den 16.10',\n",
       "       'Nordea pay køb, . ONE 2 APS        Den 22.07',\n",
       "       'Nordea pay køb, . ONE 2 APS        Den 28.01',\n",
       "       'EUR 48,00           GeneratorBerlinAle',\n",
       "       'EUR 40,20           Waterloo 138 S.P.R.L',\n",
       "       'To Maidar Gutierrez                3331715945                         3331715945',\n",
       "       'Nordea pay køb, . KALASET          Den 18.12',\n",
       "       'beitSALMAcph                                 ',\n",
       "       'Nordea pay køb, . MOBILEPAY        Den 30.12',\n",
       "       'DESIGNMUSEUM DANMARKDen 07.01', 'MobilePay Alvaro Cop',\n",
       "       'APOSTOLES DEL BON VI                         ',\n",
       "       'EUR 29,90           CAN XAVI',\n",
       "       'Nordea pay køb, . CORA VESTERBRO   Den 25.01',\n",
       "       'MobilePay Noelia Gar',\n",
       "       'ABSALON                                      ',\n",
       "       'EUR 26,00           DONA TECLA RESTAURAC',\n",
       "       'EUR 25,10           RESTSTAENDIGE VERTRE',\n",
       "       'Nordea pay udbetaling DKK 184,69   121009436',\n",
       "       'EUR 24,53           TRANSGOURMET IBERICA',\n",
       "       'USD 25,73           Ministry of Home Aff',\n",
       "       'Nordea pay køb, . MASSERIA APS     Den 14.09',\n",
       "       'OELSNEDKEREN KOEBENHDen 27.09',\n",
       "       'Nordea pay køb, . KAFFESALONEN APS Den 12.02',\n",
       "       'EUR 22,80           RAMAMIJU', 'MobilePay Konstantin',\n",
       "       'EUR 22,50           Caffe Rosario',\n",
       "       'EUR 21,70           LA SALETA', 'PAPYRUS BOGCAFE APS Den 04.06',\n",
       "       'Nordea pay køb, . SKAAL CPH        Den 21.02',\n",
       "       'KHAZAN BABU APS - VADen 03.07', 'UNO-X 698 KBH SV ELLDen 14.07',\n",
       "       'Nordea pay køb, . LA PLACE CPH T2  Den 22.12',\n",
       "       'MobilePay Michael Ed', 'MESTEREN & LAERLINGEDen 03.09',\n",
       "       'NETS*KOEBENHAVNS KOMDen 12.02',\n",
       "       'Nordea pay køb, . KOEBENHAVNS KOMM Den 27.02',\n",
       "       'Nordea pay køb, . KRAFTWERKET      Den 11.02',\n",
       "       'Nordea pay, . Southern Cross Pub   Den 05.07',\n",
       "       'MESTEREN & LAERLINGE                         ',\n",
       "       'MobilePay Julefrokos', 'EUR 17,00           CENTRO ARTEMISA',\n",
       "       'MobilePay George Ang', 'EUR 16,00           DB Automaten',\n",
       "       'MobilePay Michael Jo', 'MobilePay Chizaram E',\n",
       "       'ESPRESSO HOUSE 7136 Den 24.01', 'BOOTLEGGERS NOERREBRDen 20.10',\n",
       "       'Nordea pay køb, . MINIBAR          Den 09.05',\n",
       "       'EUR 14,00           TORRE TAVIRA CAMARA',\n",
       "       'EUR 14,00           PIKACHOS', 'NEXT HOUSE COPENHAGEDen 19.07',\n",
       "       'EUR 14,00           LATITUD 40', 'EUR 13,60           PIKACHOS',\n",
       "       'Nordea pay køb, . Walkthrough TA   Den 25.06',\n",
       "       'TRANQUILO                                    ',\n",
       "       'Capi Copenhagen / ShDen 21.11',\n",
       "       'MARKET TIRSO DE MOLI                         ',\n",
       "       'Nordea pay køb, . NY GRØNDAL       Den 09.04',\n",
       "       'Nordea pay køb, . LA MERA MERA     Den 18.05',\n",
       "       'AUTOSERVICIO GONZALE                         ',\n",
       "       'EUR 12,15           Caresquick A Topaze',\n",
       "       'EUR 11,99           MARCANDO ESTILO',\n",
       "       'Nordea pay køb, . KING OF KEBAB    Den 14.09',\n",
       "       'PLN 54,00           PHZ BALTONA MULTISTO',\n",
       "       'EUR 10,90           GUSTOS DE ANTES',\n",
       "       'EL GUAJE                                     ',\n",
       "       'EUR 10,79           Dohop', 'NETS*KOEBENHAVNS KOMDen 16.01',\n",
       "       'EUR 10,30           Nmbs Bru Nat Luchtha',\n",
       "       'Nordea pay køb, . CLUB 33          Den 24.12',\n",
       "       'EUR 10,00           BVG', 'EUR 10,00           DB Automaten',\n",
       "       'EUR 9,66            CIFE SUPER 2000',\n",
       "       'Nordea pay køb, . STEFANS KIOSK    Den 07.09',\n",
       "       'EUR 9,40            E.S. MAYPA, S.L.',\n",
       "       'Nordea pay køb, . KOMPASSET OELBAR Den 18.03',\n",
       "       'Nordea pay køb, . MALING.DK        Den 03.02',\n",
       "       'URBAN CAMPER COPENHADen 26.10',\n",
       "       'Nordea pay køb, . LA PLACE CPH T2  Den 04.05',\n",
       "       'Nordea pay køb, . Funders Ishus    Den 30.09',\n",
       "       'EUR 8,25            FOTORED DELICIAS',\n",
       "       'EUR 8,26            TRANSGOURMET IBERICA',\n",
       "       'EUR 8,10            AEROPUERTO MADRID BA', 'MobilePay Georgios T',\n",
       "       'EUR 8,00            LORD OF DA.NER KA.LN',\n",
       "       'OLD IRISH VESTERBROGDen 01.06',\n",
       "       'EUR 7,80            ROHAN AND ZAFIRA', 'MobilePay KU - KUA3',\n",
       "       'EUR 7,20            GUSTOS DE ANTES',\n",
       "       'EUR 7,00            DOSBOCADOS', 'KAFFEHJOERNETKOEBMANDen 06.07',\n",
       "       'MobilePay Mads Frede', 'WH SMITH 88 T2 LANDSDen 22.06',\n",
       "       'MobilePay Christel A',\n",
       "       'MobilePay KU - KUA3                          ',\n",
       "       'EUR 6,00            Koelncongress',\n",
       "       'MERCADILLO LISBOA                            ',\n",
       "       'BOGALICOM                                    ',\n",
       "       'EUR 6,00            DON PULPO', 'EUR 6,00            CARBONES 13',\n",
       "       'EUR 5,90            Lagardere Travel Fil',\n",
       "       'THAI SUPERMARKET APSDen 08.01',\n",
       "       'EUR 5,64            VILLAR CORCES S.L.', 'MobilePay Alan Danie',\n",
       "       'EUR 5,24            LUPA CANALEJAS SANTN',\n",
       "       'TooGoodToG rkb6s60auDen 20.02', 'EUR 5,00            GUTINI',\n",
       "       'EUR 5,00            ALEHOP 199 MADRID S',\n",
       "       'EUR 4,95            SSP S.A.- AEROPUERTO',\n",
       "       'EUR 4,90            ZETTLE_*SCHLEUSENKRU',\n",
       "       'HAMMELSTRUPVEJ FDB SDen 29.09',\n",
       "       'EUR 4,00            DB Automaten', 'MobilePay BBQ Olympi',\n",
       "       'EUR 4,00            OIT NAVETA DES TUDON',\n",
       "       'EUR 4,00            Koelncongress',\n",
       "       'EUR 3,70            EL CERDITO GOLOSO',\n",
       "       'EUR 3,50            DB Automaten',\n",
       "       'GEBR. HEINEMANN RETADen 22.11',\n",
       "       'EUR 1,60            GUSTOS DE ANTES',\n",
       "       'EUR 1,15            ZONA BLAVA CIUTADELL', 'Bs betaling 01153390'],\n",
       "      dtype=object)"
      ]
     },
     "execution_count": 7,
     "metadata": {},
     "output_type": "execute_result"
    }
   ],
   "source": [
    "df_all[df_all['Category']=='Uncategorized'].sort_values('Amount')\\\n",
    "                    ['Description'].unique()\n",
    "#.head(20)"
   ]
  },
  {
   "cell_type": "code",
   "execution_count": 8,
   "metadata": {},
   "outputs": [
    {
     "data": {
      "text/html": [
       "<div>\n",
       "<style scoped>\n",
       "    .dataframe tbody tr th:only-of-type {\n",
       "        vertical-align: middle;\n",
       "    }\n",
       "\n",
       "    .dataframe tbody tr th {\n",
       "        vertical-align: top;\n",
       "    }\n",
       "\n",
       "    .dataframe thead th {\n",
       "        text-align: right;\n",
       "    }\n",
       "</style>\n",
       "<table border=\"1\" class=\"dataframe\">\n",
       "  <thead>\n",
       "    <tr style=\"text-align: right;\">\n",
       "      <th></th>\n",
       "      <th>Date</th>\n",
       "      <th>Description</th>\n",
       "      <th>Amount</th>\n",
       "      <th>Balance</th>\n",
       "      <th>Currency</th>\n",
       "      <th>Original_Bank</th>\n",
       "      <th>Status</th>\n",
       "      <th>Category</th>\n",
       "    </tr>\n",
       "  </thead>\n",
       "  <tbody>\n",
       "    <tr>\n",
       "      <th>509</th>\n",
       "      <td>2023-01-02</td>\n",
       "      <td>Nordea pay køb, . FAKTA METROPOLEN Den 29.12</td>\n",
       "      <td>-49.00</td>\n",
       "      <td>645387.18</td>\n",
       "      <td>DKK</td>\n",
       "      <td>Nordea</td>\n",
       "      <td>Booked</td>\n",
       "      <td>Groceries</td>\n",
       "    </tr>\n",
       "    <tr>\n",
       "      <th>508</th>\n",
       "      <td>2023-01-02</td>\n",
       "      <td>REMA 1000 KBH., BRYGDen 29.12</td>\n",
       "      <td>-34.95</td>\n",
       "      <td>645352.23</td>\n",
       "      <td>DKK</td>\n",
       "      <td>Nordea</td>\n",
       "      <td>Booked</td>\n",
       "      <td>Uncategorized</td>\n",
       "    </tr>\n",
       "    <tr>\n",
       "      <th>507</th>\n",
       "      <td>2023-01-02</td>\n",
       "      <td>Nordea pay køb, . FAKTA METROPOLEN Den 30.12</td>\n",
       "      <td>-26.00</td>\n",
       "      <td>645326.23</td>\n",
       "      <td>DKK</td>\n",
       "      <td>Nordea</td>\n",
       "      <td>Booked</td>\n",
       "      <td>Groceries</td>\n",
       "    </tr>\n",
       "    <tr>\n",
       "      <th>506</th>\n",
       "      <td>2023-01-02</td>\n",
       "      <td>Nordea pay køb, . MOBILEPAY        Den 30.12</td>\n",
       "      <td>-269.00</td>\n",
       "      <td>645057.23</td>\n",
       "      <td>DKK</td>\n",
       "      <td>Nordea</td>\n",
       "      <td>Booked</td>\n",
       "      <td>Uncategorized</td>\n",
       "    </tr>\n",
       "    <tr>\n",
       "      <th>505</th>\n",
       "      <td>2023-01-02</td>\n",
       "      <td>Nordea pay, . NETTO MATHAEUSGADE   Den 30.12</td>\n",
       "      <td>-178.45</td>\n",
       "      <td>644878.78</td>\n",
       "      <td>DKK</td>\n",
       "      <td>Nordea</td>\n",
       "      <td>Booked</td>\n",
       "      <td>Groceries</td>\n",
       "    </tr>\n",
       "  </tbody>\n",
       "</table>\n",
       "</div>"
      ],
      "text/plain": [
       "          Date                                   Description  Amount  \\\n",
       "509 2023-01-02  Nordea pay køb, . FAKTA METROPOLEN Den 29.12  -49.00   \n",
       "508 2023-01-02                 REMA 1000 KBH., BRYGDen 29.12  -34.95   \n",
       "507 2023-01-02  Nordea pay køb, . FAKTA METROPOLEN Den 30.12  -26.00   \n",
       "506 2023-01-02  Nordea pay køb, . MOBILEPAY        Den 30.12 -269.00   \n",
       "505 2023-01-02  Nordea pay, . NETTO MATHAEUSGADE   Den 30.12 -178.45   \n",
       "\n",
       "       Balance Currency Original_Bank  Status       Category  \n",
       "509  645387.18      DKK        Nordea  Booked      Groceries  \n",
       "508  645352.23      DKK        Nordea  Booked  Uncategorized  \n",
       "507  645326.23      DKK        Nordea  Booked      Groceries  \n",
       "506  645057.23      DKK        Nordea  Booked  Uncategorized  \n",
       "505  644878.78      DKK        Nordea  Booked      Groceries  "
      ]
     },
     "execution_count": 8,
     "metadata": {},
     "output_type": "execute_result"
    }
   ],
   "source": [
    "start_date = '2023-01-01'\n",
    "end_date = '2024-01-01'\n",
    "\n",
    "df_all[(df_all['Date']>=start_date)&\n",
    "       (df_all['Date']<end_date)]\\\n",
    "       .sort_values('Date').head()"
   ]
  },
  {
   "cell_type": "code",
   "execution_count": 9,
   "metadata": {},
   "outputs": [
    {
     "data": {
      "text/plain": [
       "0               Household\n",
       "1               Groceries\n",
       "2               Groceries\n",
       "3               Groceries\n",
       "4               Household\n",
       "              ...        \n",
       "1207        Uncategorized\n",
       "1208            Rent Flat\n",
       "1209    Revolut transfers\n",
       "1210            Utilities\n",
       "1211            Utilities\n",
       "Name: Category, Length: 1212, dtype: object"
      ]
     },
     "execution_count": 9,
     "metadata": {},
     "output_type": "execute_result"
    }
   ],
   "source": [
    "df_all['Category']"
   ]
  },
  {
   "cell_type": "code",
   "execution_count": 10,
   "metadata": {},
   "outputs": [
    {
     "name": "stdout",
     "output_type": "stream",
     "text": [
      "Columns: ['Date', 'Description', 'Amount', 'Balance', 'Currency', 'Original_Bank', 'Status', 'Category']\n",
      "Rows with invalid/missing Date: 2\n"
     ]
    },
    {
     "data": {
      "text/html": [
       "<div>\n",
       "<style scoped>\n",
       "    .dataframe tbody tr th:only-of-type {\n",
       "        vertical-align: middle;\n",
       "    }\n",
       "\n",
       "    .dataframe tbody tr th {\n",
       "        vertical-align: top;\n",
       "    }\n",
       "\n",
       "    .dataframe thead th {\n",
       "        text-align: right;\n",
       "    }\n",
       "</style>\n",
       "<table border=\"1\" class=\"dataframe\">\n",
       "  <thead>\n",
       "    <tr style=\"text-align: right;\">\n",
       "      <th></th>\n",
       "      <th>Date</th>\n",
       "      <th>Description</th>\n",
       "      <th>Amount</th>\n",
       "      <th>Balance</th>\n",
       "      <th>Currency</th>\n",
       "      <th>Original_Bank</th>\n",
       "      <th>Status</th>\n",
       "      <th>Category</th>\n",
       "    </tr>\n",
       "  </thead>\n",
       "  <tbody>\n",
       "    <tr>\n",
       "      <th>0</th>\n",
       "      <td>NaT</td>\n",
       "      <td>IKEA COPENHAGEN   DYBBOE</td>\n",
       "      <td>-1697.00</td>\n",
       "      <td>720112.3</td>\n",
       "      <td>DKK</td>\n",
       "      <td>Nordea</td>\n",
       "      <td>Reserved</td>\n",
       "      <td>Household</td>\n",
       "    </tr>\n",
       "    <tr>\n",
       "      <th>546</th>\n",
       "      <td>NaT</td>\n",
       "      <td>Nordea Pay xtb.com\\\\Warszawa\\</td>\n",
       "      <td>-3794.01</td>\n",
       "      <td>NaN</td>\n",
       "      <td>DKK</td>\n",
       "      <td>Nordea2</td>\n",
       "      <td>Reserved</td>\n",
       "      <td>Broker investments</td>\n",
       "    </tr>\n",
       "  </tbody>\n",
       "</table>\n",
       "</div>"
      ],
      "text/plain": [
       "    Date                    Description   Amount   Balance Currency  \\\n",
       "0    NaT       IKEA COPENHAGEN   DYBBOE -1697.00  720112.3      DKK   \n",
       "546  NaT  Nordea Pay xtb.com\\\\Warszawa\\ -3794.01       NaN      DKK   \n",
       "\n",
       "    Original_Bank    Status            Category  \n",
       "0          Nordea  Reserved           Household  \n",
       "546       Nordea2  Reserved  Broker investments  "
      ]
     },
     "metadata": {},
     "output_type": "display_data"
    },
    {
     "name": "stdout",
     "output_type": "stream",
     "text": [
      "Rows with invalid/missing Amount: 0\n"
     ]
    },
    {
     "data": {
      "text/html": [
       "<div>\n",
       "<style scoped>\n",
       "    .dataframe tbody tr th:only-of-type {\n",
       "        vertical-align: middle;\n",
       "    }\n",
       "\n",
       "    .dataframe tbody tr th {\n",
       "        vertical-align: top;\n",
       "    }\n",
       "\n",
       "    .dataframe thead th {\n",
       "        text-align: right;\n",
       "    }\n",
       "</style>\n",
       "<table border=\"1\" class=\"dataframe\">\n",
       "  <thead>\n",
       "    <tr style=\"text-align: right;\">\n",
       "      <th></th>\n",
       "      <th>Date</th>\n",
       "      <th>Description</th>\n",
       "      <th>Amount</th>\n",
       "      <th>Balance</th>\n",
       "      <th>Currency</th>\n",
       "      <th>Original_Bank</th>\n",
       "      <th>Status</th>\n",
       "      <th>Category</th>\n",
       "    </tr>\n",
       "  </thead>\n",
       "  <tbody>\n",
       "  </tbody>\n",
       "</table>\n",
       "</div>"
      ],
      "text/plain": [
       "Empty DataFrame\n",
       "Columns: [Date, Description, Amount, Balance, Currency, Original_Bank, Status, Category]\n",
       "Index: []"
      ]
     },
     "metadata": {},
     "output_type": "display_data"
    }
   ],
   "source": [
    "# Check that ‘Date’, ‘Description’, ‘Amount’, ‘Balance’, ‘Currency’, ‘Original_Bank’, ‘Status’ are present:\n",
    "print(\"Columns:\", df_all.columns.tolist())\n",
    "\n",
    "# Check for any rows with missing Date or Amount\n",
    "missing_date = df_all[df_all[\"Date\"].isna()]\n",
    "print(\"Rows with invalid/missing Date:\", len(missing_date))\n",
    "display(missing_date.head())\n",
    "\n",
    "missing_amount = df_all[df_all[\"Amount\"].isna()]\n",
    "print(\"Rows with invalid/missing Amount:\", len(missing_amount))\n",
    "display(missing_amount.head())"
   ]
  },
  {
   "cell_type": "code",
   "execution_count": 11,
   "metadata": {},
   "outputs": [
    {
     "name": "stdout",
     "output_type": "stream",
     "text": [
      "Preview EUR conversion:\n"
     ]
    },
    {
     "data": {
      "text/html": [
       "<div>\n",
       "<style scoped>\n",
       "    .dataframe tbody tr th:only-of-type {\n",
       "        vertical-align: middle;\n",
       "    }\n",
       "\n",
       "    .dataframe tbody tr th {\n",
       "        vertical-align: top;\n",
       "    }\n",
       "\n",
       "    .dataframe thead th {\n",
       "        text-align: right;\n",
       "    }\n",
       "</style>\n",
       "<table border=\"1\" class=\"dataframe\">\n",
       "  <thead>\n",
       "    <tr style=\"text-align: right;\">\n",
       "      <th></th>\n",
       "      <th>Date</th>\n",
       "      <th>Description</th>\n",
       "      <th>Amount</th>\n",
       "      <th>Balance</th>\n",
       "      <th>Currency</th>\n",
       "      <th>Original_Bank</th>\n",
       "      <th>Status</th>\n",
       "      <th>Category</th>\n",
       "    </tr>\n",
       "  </thead>\n",
       "  <tbody>\n",
       "    <tr>\n",
       "      <th>0</th>\n",
       "      <td>NaT</td>\n",
       "      <td>IKEA COPENHAGEN   DYBBOE</td>\n",
       "      <td>-227.479893</td>\n",
       "      <td>96529.798928</td>\n",
       "      <td>EUR</td>\n",
       "      <td>Nordea</td>\n",
       "      <td>Reserved</td>\n",
       "      <td>Household</td>\n",
       "    </tr>\n",
       "    <tr>\n",
       "      <th>1</th>\n",
       "      <td>2024-01-22</td>\n",
       "      <td>COOP365 SLUSEHOLMEN Den 19.01</td>\n",
       "      <td>-29.323056</td>\n",
       "      <td>96757.278820</td>\n",
       "      <td>EUR</td>\n",
       "      <td>Nordea</td>\n",
       "      <td>Booked</td>\n",
       "      <td>Groceries</td>\n",
       "    </tr>\n",
       "    <tr>\n",
       "      <th>2</th>\n",
       "      <td>2024-01-19</td>\n",
       "      <td>COOP365 SLUSEHOLMEN Den 17.01</td>\n",
       "      <td>-11.242627</td>\n",
       "      <td>96786.601877</td>\n",
       "      <td>EUR</td>\n",
       "      <td>Nordea</td>\n",
       "      <td>Booked</td>\n",
       "      <td>Groceries</td>\n",
       "    </tr>\n",
       "    <tr>\n",
       "      <th>3</th>\n",
       "      <td>2024-01-19</td>\n",
       "      <td>Nordea pay, . COOP365 METROPOLEN   Den 17.01</td>\n",
       "      <td>-2.412869</td>\n",
       "      <td>96797.844504</td>\n",
       "      <td>EUR</td>\n",
       "      <td>Nordea</td>\n",
       "      <td>Booked</td>\n",
       "      <td>Groceries</td>\n",
       "    </tr>\n",
       "    <tr>\n",
       "      <th>4</th>\n",
       "      <td>2024-01-19</td>\n",
       "      <td>Nordea pay køb, . IKEA.DK          Den 17.01</td>\n",
       "      <td>-1144.235925</td>\n",
       "      <td>96800.257373</td>\n",
       "      <td>EUR</td>\n",
       "      <td>Nordea</td>\n",
       "      <td>Booked</td>\n",
       "      <td>Household</td>\n",
       "    </tr>\n",
       "  </tbody>\n",
       "</table>\n",
       "</div>"
      ],
      "text/plain": [
       "        Date                                   Description       Amount  \\\n",
       "0        NaT                      IKEA COPENHAGEN   DYBBOE  -227.479893   \n",
       "1 2024-01-22                 COOP365 SLUSEHOLMEN Den 19.01   -29.323056   \n",
       "2 2024-01-19                 COOP365 SLUSEHOLMEN Den 17.01   -11.242627   \n",
       "3 2024-01-19  Nordea pay, . COOP365 METROPOLEN   Den 17.01    -2.412869   \n",
       "4 2024-01-19  Nordea pay køb, . IKEA.DK          Den 17.01 -1144.235925   \n",
       "\n",
       "        Balance Currency Original_Bank    Status   Category  \n",
       "0  96529.798928      EUR        Nordea  Reserved  Household  \n",
       "1  96757.278820      EUR        Nordea    Booked  Groceries  \n",
       "2  96786.601877      EUR        Nordea    Booked  Groceries  \n",
       "3  96797.844504      EUR        Nordea    Booked  Groceries  \n",
       "4  96800.257373      EUR        Nordea    Booked  Household  "
      ]
     },
     "metadata": {},
     "output_type": "display_data"
    }
   ],
   "source": [
    "from src.utils import convert_currency_in_df\n",
    "\n",
    "df_eur = convert_currency_in_df(df_all, target_currency=\"EUR\")\n",
    "print(\"Preview EUR conversion:\")\n",
    "display(df_eur.head())"
   ]
  },
  {
   "cell_type": "code",
   "execution_count": 12,
   "metadata": {},
   "outputs": [
    {
     "name": "stdout",
     "output_type": "stream",
     "text": [
      "Date range: 2022-12-01 — 2025-06-04\n",
      "After date filter: (1163, 8)\n",
      "Unique categories: ['Groceries' 'Household' 'Shopping' 'Uncategorized' 'Transport'\n",
      " 'Utilities' 'Sports' 'Rent Flat' 'Rent/Mortgage' 'Financial/Fees'\n",
      " 'Internet/Phone' 'Salary' 'Revolut transfers' 'Cash Withdrawal' 'Travel'\n",
      " 'Dining Out' 'Flights' 'Deposit Flat' 'Healthcare' 'Entertainment'\n",
      " 'Transfers' 'Tax payments' 'Broker investments']\n"
     ]
    }
   ],
   "source": [
    "# 7a. Date range\n",
    "df_all[\"Date\"] = pd.to_datetime(df_all[\"Date\"], errors=\"coerce\")\n",
    "min_date, max_date = df_all[\"Date\"].min().date(), df_all[\"Date\"].max().date()\n",
    "print(\"Date range:\", min_date, \"—\", max_date)\n",
    "\n",
    "# Example: only keep Jan–May 2025\n",
    "from datetime import date\n",
    "start_date = date(2023, 1, 1)\n",
    "end_date   = date(2025, 5, 31)\n",
    "\n",
    "mask = (df_all[\"Date\"].dt.date >= start_date) & (df_all[\"Date\"].dt.date <= end_date)\n",
    "df_filtered = df_all.loc[mask].copy()\n",
    "print(\"After date filter:\", df_filtered.shape)\n",
    "\n",
    "# 7b. Category check (if you have categorization enabled)\n",
    "if \"Category\" not in df_filtered.columns or df_filtered[\"Category\"].isna().all():\n",
    "    from src.categorizer import categorize_transactions_df, CATEGORY_RULES\n",
    "    df_filtered = categorize_transactions_df(df_filtered.copy(), CATEGORY_RULES)\n",
    "\n",
    "print(\"Unique categories:\", df_filtered[\"Category\"].unique())\n"
   ]
  },
  {
   "cell_type": "code",
   "execution_count": 13,
   "metadata": {},
   "outputs": [
    {
     "name": "stdout",
     "output_type": "stream",
     "text": [
      "Non-booked rows:\n"
     ]
    },
    {
     "data": {
      "text/html": [
       "<div>\n",
       "<style scoped>\n",
       "    .dataframe tbody tr th:only-of-type {\n",
       "        vertical-align: middle;\n",
       "    }\n",
       "\n",
       "    .dataframe tbody tr th {\n",
       "        vertical-align: top;\n",
       "    }\n",
       "\n",
       "    .dataframe thead th {\n",
       "        text-align: right;\n",
       "    }\n",
       "</style>\n",
       "<table border=\"1\" class=\"dataframe\">\n",
       "  <thead>\n",
       "    <tr style=\"text-align: right;\">\n",
       "      <th></th>\n",
       "      <th>Date</th>\n",
       "      <th>Description</th>\n",
       "      <th>Amount</th>\n",
       "      <th>Balance</th>\n",
       "      <th>Currency</th>\n",
       "      <th>Original_Bank</th>\n",
       "      <th>Status</th>\n",
       "      <th>Category</th>\n",
       "    </tr>\n",
       "  </thead>\n",
       "  <tbody>\n",
       "    <tr>\n",
       "      <th>0</th>\n",
       "      <td>NaT</td>\n",
       "      <td>IKEA COPENHAGEN   DYBBOE</td>\n",
       "      <td>-1697.00</td>\n",
       "      <td>720112.3</td>\n",
       "      <td>DKK</td>\n",
       "      <td>Nordea</td>\n",
       "      <td>Reserved</td>\n",
       "      <td>Household</td>\n",
       "    </tr>\n",
       "    <tr>\n",
       "      <th>546</th>\n",
       "      <td>NaT</td>\n",
       "      <td>Nordea Pay xtb.com\\\\Warszawa\\</td>\n",
       "      <td>-3794.01</td>\n",
       "      <td>NaN</td>\n",
       "      <td>DKK</td>\n",
       "      <td>Nordea2</td>\n",
       "      <td>Reserved</td>\n",
       "      <td>Broker investments</td>\n",
       "    </tr>\n",
       "  </tbody>\n",
       "</table>\n",
       "</div>"
      ],
      "text/plain": [
       "    Date                    Description   Amount   Balance Currency  \\\n",
       "0    NaT       IKEA COPENHAGEN   DYBBOE -1697.00  720112.3      DKK   \n",
       "546  NaT  Nordea Pay xtb.com\\\\Warszawa\\ -3794.01       NaN      DKK   \n",
       "\n",
       "    Original_Bank    Status            Category  \n",
       "0          Nordea  Reserved           Household  \n",
       "546       Nordea2  Reserved  Broker investments  "
      ]
     },
     "metadata": {},
     "output_type": "display_data"
    },
    {
     "name": "stdout",
     "output_type": "stream",
     "text": [
      "Transactions > |10,000| DKK:\n"
     ]
    },
    {
     "data": {
      "text/html": [
       "<div>\n",
       "<style scoped>\n",
       "    .dataframe tbody tr th:only-of-type {\n",
       "        vertical-align: middle;\n",
       "    }\n",
       "\n",
       "    .dataframe tbody tr th {\n",
       "        vertical-align: top;\n",
       "    }\n",
       "\n",
       "    .dataframe thead th {\n",
       "        text-align: right;\n",
       "    }\n",
       "</style>\n",
       "<table border=\"1\" class=\"dataframe\">\n",
       "  <thead>\n",
       "    <tr style=\"text-align: right;\">\n",
       "      <th></th>\n",
       "      <th>Date</th>\n",
       "      <th>Description</th>\n",
       "      <th>Amount</th>\n",
       "      <th>Balance</th>\n",
       "      <th>Currency</th>\n",
       "      <th>Original_Bank</th>\n",
       "      <th>Status</th>\n",
       "      <th>Category</th>\n",
       "    </tr>\n",
       "  </thead>\n",
       "  <tbody>\n",
       "    <tr>\n",
       "      <th>560</th>\n",
       "      <td>2025-05-28</td>\n",
       "      <td>Lønoverførsel LØNOVERFØRSEL</td>\n",
       "      <td>43568.30</td>\n",
       "      <td>975856.90</td>\n",
       "      <td>DKK</td>\n",
       "      <td>Nordea2</td>\n",
       "      <td>Booked</td>\n",
       "      <td>Salary</td>\n",
       "    </tr>\n",
       "    <tr>\n",
       "      <th>990</th>\n",
       "      <td>2024-06-04</td>\n",
       "      <td>LØNOVERFØRSEL</td>\n",
       "      <td>40175.41</td>\n",
       "      <td>828860.35</td>\n",
       "      <td>DKK</td>\n",
       "      <td>Nordea2</td>\n",
       "      <td>Booked</td>\n",
       "      <td>Salary</td>\n",
       "    </tr>\n",
       "    <tr>\n",
       "      <th>625</th>\n",
       "      <td>2025-03-31</td>\n",
       "      <td>Lønoverførsel LØNOVERFØRSEL</td>\n",
       "      <td>38991.70</td>\n",
       "      <td>930575.20</td>\n",
       "      <td>DKK</td>\n",
       "      <td>Nordea2</td>\n",
       "      <td>Booked</td>\n",
       "      <td>Salary</td>\n",
       "    </tr>\n",
       "    <tr>\n",
       "      <th>592</th>\n",
       "      <td>2025-04-30</td>\n",
       "      <td>Lønoverførsel LØNOVERFØRSEL</td>\n",
       "      <td>38991.70</td>\n",
       "      <td>951966.34</td>\n",
       "      <td>DKK</td>\n",
       "      <td>Nordea2</td>\n",
       "      <td>Booked</td>\n",
       "      <td>Salary</td>\n",
       "    </tr>\n",
       "    <tr>\n",
       "      <th>669</th>\n",
       "      <td>2025-02-28</td>\n",
       "      <td>LØNOVERFØRSEL</td>\n",
       "      <td>38991.70</td>\n",
       "      <td>916858.91</td>\n",
       "      <td>DKK</td>\n",
       "      <td>Nordea2</td>\n",
       "      <td>Booked</td>\n",
       "      <td>Salary</td>\n",
       "    </tr>\n",
       "  </tbody>\n",
       "</table>\n",
       "</div>"
      ],
      "text/plain": [
       "          Date                  Description    Amount    Balance Currency  \\\n",
       "560 2025-05-28  Lønoverførsel LØNOVERFØRSEL  43568.30  975856.90      DKK   \n",
       "990 2024-06-04                LØNOVERFØRSEL  40175.41  828860.35      DKK   \n",
       "625 2025-03-31  Lønoverførsel LØNOVERFØRSEL  38991.70  930575.20      DKK   \n",
       "592 2025-04-30  Lønoverførsel LØNOVERFØRSEL  38991.70  951966.34      DKK   \n",
       "669 2025-02-28                LØNOVERFØRSEL  38991.70  916858.91      DKK   \n",
       "\n",
       "    Original_Bank  Status Category  \n",
       "560       Nordea2  Booked   Salary  \n",
       "990       Nordea2  Booked   Salary  \n",
       "625       Nordea2  Booked   Salary  \n",
       "592       Nordea2  Booked   Salary  \n",
       "669       Nordea2  Booked   Salary  "
      ]
     },
     "metadata": {},
     "output_type": "display_data"
    }
   ],
   "source": [
    "# 8a. Transactions where Status != \"Booked\"\n",
    "print(\"Non-booked rows:\")\n",
    "display(df_all[df_all[\"Status\"] != \"Booked\"].head())\n",
    "\n",
    "# 8b. Large positive or negative amounts\n",
    "big_tx = df_all[ df_all[\"Amount\"].abs() > 10_000 ]\n",
    "print(\"Transactions > |10,000| DKK:\")\n",
    "display(big_tx.sort_values(\"Amount\", ascending=False).head())"
   ]
  },
  {
   "cell_type": "markdown",
   "metadata": {},
   "source": [
    "# Graphs"
   ]
  },
  {
   "cell_type": "code",
   "execution_count": 14,
   "metadata": {},
   "outputs": [
    {
     "data": {
      "text/plain": [
       "Category\n",
       "Rent Flat            149439.00\n",
       "Uncategorized         64675.27\n",
       "Flights               34637.47\n",
       "Deposit Flat          28000.00\n",
       "Revolut transfers     17198.99\n",
       "Groceries             12367.22\n",
       "Shopping               8491.74\n",
       "Utilities              4560.41\n",
       "Transport              4234.27\n",
       "Sports                 4134.00\n",
       "Internet/Phone         3926.00\n",
       "Travel                 3056.50\n",
       "Dining Out             1949.02\n",
       "Household               962.00\n",
       "Financial/Fees          930.00\n",
       "Cash Withdrawal         878.53\n",
       "Entertainment           320.00\n",
       "Healthcare              152.75\n",
       "Name: Absolute_Amount, dtype: float64"
      ]
     },
     "execution_count": 14,
     "metadata": {},
     "output_type": "execute_result"
    }
   ],
   "source": [
    "start_date = '2022-12-01'\n",
    "end_date = '2024-01-01'\n",
    "\n",
    "filtered_df = df_all[(df_all['Date']>=start_date)&\n",
    "       (df_all['Date']<end_date)]\\\n",
    "       .sort_values('Date')\n",
    "\n",
    "\n",
    "expenses_df = filtered_df[filtered_df['Amount'] < 0].copy()\n",
    "expenses_df['Absolute_Amount'] = expenses_df['Amount'].abs()\n",
    "category_spending = expenses_df.groupby('Category')['Absolute_Amount'].sum().sort_values(ascending=False)\n",
    "category_spending\n"
   ]
  },
  {
   "cell_type": "code",
   "execution_count": 15,
   "metadata": {},
   "outputs": [
    {
     "name": "stderr",
     "output_type": "stream",
     "text": [
      "C:\\Users\\ag\\AppData\\Local\\Temp\\ipykernel_11388\\2603062748.py:5: FutureWarning: 'M' is deprecated and will be removed in a future version, please use 'ME' instead.\n",
      "  monthly_summary = monthly_df.resample('M')['Amount'].agg(\n"
     ]
    },
    {
     "data": {
      "text/html": [
       "<div>\n",
       "<style scoped>\n",
       "    .dataframe tbody tr th:only-of-type {\n",
       "        vertical-align: middle;\n",
       "    }\n",
       "\n",
       "    .dataframe tbody tr th {\n",
       "        vertical-align: top;\n",
       "    }\n",
       "\n",
       "    .dataframe thead th {\n",
       "        text-align: right;\n",
       "    }\n",
       "</style>\n",
       "<table border=\"1\" class=\"dataframe\">\n",
       "  <thead>\n",
       "    <tr style=\"text-align: right;\">\n",
       "      <th></th>\n",
       "      <th>Date</th>\n",
       "      <th>Income</th>\n",
       "      <th>Expenses</th>\n",
       "    </tr>\n",
       "  </thead>\n",
       "  <tbody>\n",
       "    <tr>\n",
       "      <th>0</th>\n",
       "      <td>2022-12-31</td>\n",
       "      <td>33739.33</td>\n",
       "      <td>17623.29</td>\n",
       "    </tr>\n",
       "    <tr>\n",
       "      <th>1</th>\n",
       "      <td>2023-01-31</td>\n",
       "      <td>34135.23</td>\n",
       "      <td>21250.53</td>\n",
       "    </tr>\n",
       "    <tr>\n",
       "      <th>2</th>\n",
       "      <td>2023-02-28</td>\n",
       "      <td>33229.33</td>\n",
       "      <td>21815.96</td>\n",
       "    </tr>\n",
       "    <tr>\n",
       "      <th>3</th>\n",
       "      <td>2023-03-31</td>\n",
       "      <td>34179.33</td>\n",
       "      <td>18843.76</td>\n",
       "    </tr>\n",
       "    <tr>\n",
       "      <th>4</th>\n",
       "      <td>2023-04-30</td>\n",
       "      <td>34305.33</td>\n",
       "      <td>15812.25</td>\n",
       "    </tr>\n",
       "    <tr>\n",
       "      <th>5</th>\n",
       "      <td>2023-05-31</td>\n",
       "      <td>36107.23</td>\n",
       "      <td>27246.28</td>\n",
       "    </tr>\n",
       "    <tr>\n",
       "      <th>6</th>\n",
       "      <td>2023-06-30</td>\n",
       "      <td>32581.33</td>\n",
       "      <td>19250.88</td>\n",
       "    </tr>\n",
       "    <tr>\n",
       "      <th>7</th>\n",
       "      <td>2023-07-31</td>\n",
       "      <td>32838.00</td>\n",
       "      <td>18627.72</td>\n",
       "    </tr>\n",
       "    <tr>\n",
       "      <th>8</th>\n",
       "      <td>2023-08-31</td>\n",
       "      <td>38506.50</td>\n",
       "      <td>23628.39</td>\n",
       "    </tr>\n",
       "    <tr>\n",
       "      <th>9</th>\n",
       "      <td>2023-09-30</td>\n",
       "      <td>36986.33</td>\n",
       "      <td>6119.54</td>\n",
       "    </tr>\n",
       "    <tr>\n",
       "      <th>10</th>\n",
       "      <td>2023-10-31</td>\n",
       "      <td>37544.63</td>\n",
       "      <td>66810.24</td>\n",
       "    </tr>\n",
       "    <tr>\n",
       "      <th>11</th>\n",
       "      <td>2023-11-30</td>\n",
       "      <td>36986.33</td>\n",
       "      <td>32848.15</td>\n",
       "    </tr>\n",
       "    <tr>\n",
       "      <th>12</th>\n",
       "      <td>2023-12-31</td>\n",
       "      <td>74675.94</td>\n",
       "      <td>50036.18</td>\n",
       "    </tr>\n",
       "  </tbody>\n",
       "</table>\n",
       "</div>"
      ],
      "text/plain": [
       "         Date    Income  Expenses\n",
       "0  2022-12-31  33739.33  17623.29\n",
       "1  2023-01-31  34135.23  21250.53\n",
       "2  2023-02-28  33229.33  21815.96\n",
       "3  2023-03-31  34179.33  18843.76\n",
       "4  2023-04-30  34305.33  15812.25\n",
       "5  2023-05-31  36107.23  27246.28\n",
       "6  2023-06-30  32581.33  19250.88\n",
       "7  2023-07-31  32838.00  18627.72\n",
       "8  2023-08-31  38506.50  23628.39\n",
       "9  2023-09-30  36986.33   6119.54\n",
       "10 2023-10-31  37544.63  66810.24\n",
       "11 2023-11-30  36986.33  32848.15\n",
       "12 2023-12-31  74675.94  50036.18"
      ]
     },
     "execution_count": 15,
     "metadata": {},
     "output_type": "execute_result"
    }
   ],
   "source": [
    "monthly_df = filtered_df.copy()\n",
    "monthly_df['Date'] = pd.to_datetime(monthly_df['Date'])\n",
    "monthly_df.set_index('Date', inplace=True)\n",
    "\n",
    "monthly_summary = monthly_df.resample('M')['Amount'].agg(\n",
    "    Income=lambda x: x[x > 0].sum(),\n",
    "    Expenses=lambda x: x[x < 0].sum() # Expenses are negative, sum will be negative\n",
    ").reset_index()\n",
    "monthly_summary['Expenses'] = monthly_summary['Expenses'].abs() # Make expenses positive for plotting alongside income\n",
    "monthly_summary\n"
   ]
  },
  {
   "cell_type": "code",
   "execution_count": 16,
   "metadata": {},
   "outputs": [
    {
     "data": {
      "text/html": [
       "<div>\n",
       "<style scoped>\n",
       "    .dataframe tbody tr th:only-of-type {\n",
       "        vertical-align: middle;\n",
       "    }\n",
       "\n",
       "    .dataframe tbody tr th {\n",
       "        vertical-align: top;\n",
       "    }\n",
       "\n",
       "    .dataframe thead th {\n",
       "        text-align: right;\n",
       "    }\n",
       "</style>\n",
       "<table border=\"1\" class=\"dataframe\">\n",
       "  <thead>\n",
       "    <tr style=\"text-align: right;\">\n",
       "      <th></th>\n",
       "      <th>Date</th>\n",
       "      <th>Net Savings</th>\n",
       "    </tr>\n",
       "  </thead>\n",
       "  <tbody>\n",
       "    <tr>\n",
       "      <th>0</th>\n",
       "      <td>2022-12-31</td>\n",
       "      <td>16116.04</td>\n",
       "    </tr>\n",
       "    <tr>\n",
       "      <th>1</th>\n",
       "      <td>2023-01-31</td>\n",
       "      <td>12884.70</td>\n",
       "    </tr>\n",
       "    <tr>\n",
       "      <th>2</th>\n",
       "      <td>2023-02-28</td>\n",
       "      <td>11413.37</td>\n",
       "    </tr>\n",
       "    <tr>\n",
       "      <th>3</th>\n",
       "      <td>2023-03-31</td>\n",
       "      <td>15335.57</td>\n",
       "    </tr>\n",
       "    <tr>\n",
       "      <th>4</th>\n",
       "      <td>2023-04-30</td>\n",
       "      <td>18493.08</td>\n",
       "    </tr>\n",
       "    <tr>\n",
       "      <th>5</th>\n",
       "      <td>2023-05-31</td>\n",
       "      <td>8860.95</td>\n",
       "    </tr>\n",
       "    <tr>\n",
       "      <th>6</th>\n",
       "      <td>2023-06-30</td>\n",
       "      <td>13330.45</td>\n",
       "    </tr>\n",
       "    <tr>\n",
       "      <th>7</th>\n",
       "      <td>2023-07-31</td>\n",
       "      <td>14210.28</td>\n",
       "    </tr>\n",
       "    <tr>\n",
       "      <th>8</th>\n",
       "      <td>2023-08-31</td>\n",
       "      <td>14878.11</td>\n",
       "    </tr>\n",
       "    <tr>\n",
       "      <th>9</th>\n",
       "      <td>2023-09-30</td>\n",
       "      <td>30866.79</td>\n",
       "    </tr>\n",
       "    <tr>\n",
       "      <th>10</th>\n",
       "      <td>2023-10-31</td>\n",
       "      <td>-29265.61</td>\n",
       "    </tr>\n",
       "    <tr>\n",
       "      <th>11</th>\n",
       "      <td>2023-11-30</td>\n",
       "      <td>4138.18</td>\n",
       "    </tr>\n",
       "    <tr>\n",
       "      <th>12</th>\n",
       "      <td>2023-12-31</td>\n",
       "      <td>24639.76</td>\n",
       "    </tr>\n",
       "  </tbody>\n",
       "</table>\n",
       "</div>"
      ],
      "text/plain": [
       "         Date  Net Savings\n",
       "0  2022-12-31     16116.04\n",
       "1  2023-01-31     12884.70\n",
       "2  2023-02-28     11413.37\n",
       "3  2023-03-31     15335.57\n",
       "4  2023-04-30     18493.08\n",
       "5  2023-05-31      8860.95\n",
       "6  2023-06-30     13330.45\n",
       "7  2023-07-31     14210.28\n",
       "8  2023-08-31     14878.11\n",
       "9  2023-09-30     30866.79\n",
       "10 2023-10-31    -29265.61\n",
       "11 2023-11-30      4138.18\n",
       "12 2023-12-31     24639.76"
      ]
     },
     "execution_count": 16,
     "metadata": {},
     "output_type": "execute_result"
    }
   ],
   "source": [
    "if not monthly_df.empty and 'Amount' in monthly_df.columns and pd.api.types.is_numeric_dtype(monthly_df['Amount']):\n",
    "    monthly_net_savings = monthly_df.resample('ME')['Amount'].sum().reset_index() # Ensure 'Date' becomes a column\n",
    "    monthly_net_savings.rename(columns={'Amount': 'Net Savings'}, inplace=True) # Rename summed column\n",
    "    \n",
    "monthly_net_savings"
   ]
  },
  {
   "cell_type": "code",
   "execution_count": 17,
   "metadata": {},
   "outputs": [
    {
     "ename": "ValueError",
     "evalue": "Mime type rendering requires nbformat>=4.2.0 but it is not installed",
     "output_type": "error",
     "traceback": [
      "\u001b[31m---------------------------------------------------------------------------\u001b[39m",
      "\u001b[31mValueError\u001b[39m                                Traceback (most recent call last)",
      "\u001b[36mFile \u001b[39m\u001b[32mc:\\Users\\ag\\alvaro\\git\\financial_planner\\venv_fin\\Lib\\site-packages\\IPython\\core\\formatters.py:984\u001b[39m, in \u001b[36mIPythonDisplayFormatter.__call__\u001b[39m\u001b[34m(self, obj)\u001b[39m\n\u001b[32m    982\u001b[39m method = get_real_method(obj, \u001b[38;5;28mself\u001b[39m.print_method)\n\u001b[32m    983\u001b[39m \u001b[38;5;28;01mif\u001b[39;00m method \u001b[38;5;129;01mis\u001b[39;00m \u001b[38;5;129;01mnot\u001b[39;00m \u001b[38;5;28;01mNone\u001b[39;00m:\n\u001b[32m--> \u001b[39m\u001b[32m984\u001b[39m     \u001b[43mmethod\u001b[49m\u001b[43m(\u001b[49m\u001b[43m)\u001b[49m\n\u001b[32m    985\u001b[39m     \u001b[38;5;28;01mreturn\u001b[39;00m \u001b[38;5;28;01mTrue\u001b[39;00m\n",
      "\u001b[36mFile \u001b[39m\u001b[32mc:\\Users\\ag\\alvaro\\git\\financial_planner\\venv_fin\\Lib\\site-packages\\plotly\\basedatatypes.py:846\u001b[39m, in \u001b[36mBaseFigure._ipython_display_\u001b[39m\u001b[34m(self)\u001b[39m\n\u001b[32m    843\u001b[39m \u001b[38;5;28;01mimport\u001b[39;00m\u001b[38;5;250m \u001b[39m\u001b[34;01mplotly\u001b[39;00m\u001b[34;01m.\u001b[39;00m\u001b[34;01mio\u001b[39;00m\u001b[38;5;250m \u001b[39m\u001b[38;5;28;01mas\u001b[39;00m\u001b[38;5;250m \u001b[39m\u001b[34;01mpio\u001b[39;00m\n\u001b[32m    845\u001b[39m \u001b[38;5;28;01mif\u001b[39;00m pio.renderers.render_on_display \u001b[38;5;129;01mand\u001b[39;00m pio.renderers.default:\n\u001b[32m--> \u001b[39m\u001b[32m846\u001b[39m     \u001b[43mpio\u001b[49m\u001b[43m.\u001b[49m\u001b[43mshow\u001b[49m\u001b[43m(\u001b[49m\u001b[38;5;28;43mself\u001b[39;49m\u001b[43m)\u001b[49m\n\u001b[32m    847\u001b[39m \u001b[38;5;28;01melse\u001b[39;00m:\n\u001b[32m    848\u001b[39m     \u001b[38;5;28mprint\u001b[39m(\u001b[38;5;28mrepr\u001b[39m(\u001b[38;5;28mself\u001b[39m))\n",
      "\u001b[36mFile \u001b[39m\u001b[32mc:\\Users\\ag\\alvaro\\git\\financial_planner\\venv_fin\\Lib\\site-packages\\plotly\\io\\_renderers.py:425\u001b[39m, in \u001b[36mshow\u001b[39m\u001b[34m(fig, renderer, validate, **kwargs)\u001b[39m\n\u001b[32m    420\u001b[39m     \u001b[38;5;28;01mraise\u001b[39;00m \u001b[38;5;167;01mValueError\u001b[39;00m(\n\u001b[32m    421\u001b[39m         \u001b[33m\"\u001b[39m\u001b[33mMime type rendering requires ipython but it is not installed\u001b[39m\u001b[33m\"\u001b[39m\n\u001b[32m    422\u001b[39m     )\n\u001b[32m    424\u001b[39m \u001b[38;5;28;01mif\u001b[39;00m \u001b[38;5;129;01mnot\u001b[39;00m nbformat \u001b[38;5;129;01mor\u001b[39;00m Version(nbformat.__version__) < Version(\u001b[33m\"\u001b[39m\u001b[33m4.2.0\u001b[39m\u001b[33m\"\u001b[39m):\n\u001b[32m--> \u001b[39m\u001b[32m425\u001b[39m     \u001b[38;5;28;01mraise\u001b[39;00m \u001b[38;5;167;01mValueError\u001b[39;00m(\n\u001b[32m    426\u001b[39m         \u001b[33m\"\u001b[39m\u001b[33mMime type rendering requires nbformat>=4.2.0 but it is not installed\u001b[39m\u001b[33m\"\u001b[39m\n\u001b[32m    427\u001b[39m     )\n\u001b[32m    429\u001b[39m display_jupyter_version_warnings()\n\u001b[32m    431\u001b[39m ipython_display.display(bundle, raw=\u001b[38;5;28;01mTrue\u001b[39;00m)\n",
      "\u001b[31mValueError\u001b[39m: Mime type rendering requires nbformat>=4.2.0 but it is not installed"
     ]
    },
    {
     "data": {
      "application/vnd.plotly.v1+json": {
       "config": {
        "plotlyServerURL": "https://plot.ly"
       },
       "data": [
        {
         "hovertemplate": "Date=%{x}<br>Net Savings=%{y}<extra></extra>",
         "legendgroup": "",
         "marker": {
          "color": "#636efa",
          "pattern": {
           "shape": ""
          }
         },
         "name": "",
         "orientation": "v",
         "showlegend": false,
         "textposition": "auto",
         "type": "bar",
         "x": [
          "2022-12-31T00:00:00.000000000",
          "2023-01-31T00:00:00.000000000",
          "2023-02-28T00:00:00.000000000",
          "2023-03-31T00:00:00.000000000",
          "2023-04-30T00:00:00.000000000",
          "2023-05-31T00:00:00.000000000",
          "2023-06-30T00:00:00.000000000",
          "2023-07-31T00:00:00.000000000",
          "2023-08-31T00:00:00.000000000",
          "2023-09-30T00:00:00.000000000",
          "2023-10-31T00:00:00.000000000",
          "2023-11-30T00:00:00.000000000",
          "2023-12-31T00:00:00.000000000"
         ],
         "xaxis": "x",
         "y": {
          "bdata": "7FG4HgV6z0CcmZmZWSrJQMT1KFyvSsZAXo/C9cjzzUDsUbgeRQ/SQJmZmZl5TsFAnJmZmTkJykBzPQrXI8HLQEbhehQOD81A9ihcj7Ik3kCkcD0KZ5TcwEjhehQuKrBAPgrXo/AP2EA=",
          "dtype": "f8"
         },
         "yaxis": "y"
        }
       ],
       "layout": {
        "barmode": "relative",
        "legend": {
         "tracegroupgap": 0
        },
        "shapes": [
         {
          "line": {
           "color": "red",
           "dash": "dash"
          },
          "type": "line",
          "x0": 0,
          "x1": 1,
          "xref": "x domain",
          "y0": 0,
          "y1": 0,
          "yref": "y"
         }
        ],
        "template": {
         "data": {
          "bar": [
           {
            "error_x": {
             "color": "#2a3f5f"
            },
            "error_y": {
             "color": "#2a3f5f"
            },
            "marker": {
             "line": {
              "color": "#E5ECF6",
              "width": 0.5
             },
             "pattern": {
              "fillmode": "overlay",
              "size": 10,
              "solidity": 0.2
             }
            },
            "type": "bar"
           }
          ],
          "barpolar": [
           {
            "marker": {
             "line": {
              "color": "#E5ECF6",
              "width": 0.5
             },
             "pattern": {
              "fillmode": "overlay",
              "size": 10,
              "solidity": 0.2
             }
            },
            "type": "barpolar"
           }
          ],
          "carpet": [
           {
            "aaxis": {
             "endlinecolor": "#2a3f5f",
             "gridcolor": "white",
             "linecolor": "white",
             "minorgridcolor": "white",
             "startlinecolor": "#2a3f5f"
            },
            "baxis": {
             "endlinecolor": "#2a3f5f",
             "gridcolor": "white",
             "linecolor": "white",
             "minorgridcolor": "white",
             "startlinecolor": "#2a3f5f"
            },
            "type": "carpet"
           }
          ],
          "choropleth": [
           {
            "colorbar": {
             "outlinewidth": 0,
             "ticks": ""
            },
            "type": "choropleth"
           }
          ],
          "contour": [
           {
            "colorbar": {
             "outlinewidth": 0,
             "ticks": ""
            },
            "colorscale": [
             [
              0,
              "#0d0887"
             ],
             [
              0.1111111111111111,
              "#46039f"
             ],
             [
              0.2222222222222222,
              "#7201a8"
             ],
             [
              0.3333333333333333,
              "#9c179e"
             ],
             [
              0.4444444444444444,
              "#bd3786"
             ],
             [
              0.5555555555555556,
              "#d8576b"
             ],
             [
              0.6666666666666666,
              "#ed7953"
             ],
             [
              0.7777777777777778,
              "#fb9f3a"
             ],
             [
              0.8888888888888888,
              "#fdca26"
             ],
             [
              1,
              "#f0f921"
             ]
            ],
            "type": "contour"
           }
          ],
          "contourcarpet": [
           {
            "colorbar": {
             "outlinewidth": 0,
             "ticks": ""
            },
            "type": "contourcarpet"
           }
          ],
          "heatmap": [
           {
            "colorbar": {
             "outlinewidth": 0,
             "ticks": ""
            },
            "colorscale": [
             [
              0,
              "#0d0887"
             ],
             [
              0.1111111111111111,
              "#46039f"
             ],
             [
              0.2222222222222222,
              "#7201a8"
             ],
             [
              0.3333333333333333,
              "#9c179e"
             ],
             [
              0.4444444444444444,
              "#bd3786"
             ],
             [
              0.5555555555555556,
              "#d8576b"
             ],
             [
              0.6666666666666666,
              "#ed7953"
             ],
             [
              0.7777777777777778,
              "#fb9f3a"
             ],
             [
              0.8888888888888888,
              "#fdca26"
             ],
             [
              1,
              "#f0f921"
             ]
            ],
            "type": "heatmap"
           }
          ],
          "histogram": [
           {
            "marker": {
             "pattern": {
              "fillmode": "overlay",
              "size": 10,
              "solidity": 0.2
             }
            },
            "type": "histogram"
           }
          ],
          "histogram2d": [
           {
            "colorbar": {
             "outlinewidth": 0,
             "ticks": ""
            },
            "colorscale": [
             [
              0,
              "#0d0887"
             ],
             [
              0.1111111111111111,
              "#46039f"
             ],
             [
              0.2222222222222222,
              "#7201a8"
             ],
             [
              0.3333333333333333,
              "#9c179e"
             ],
             [
              0.4444444444444444,
              "#bd3786"
             ],
             [
              0.5555555555555556,
              "#d8576b"
             ],
             [
              0.6666666666666666,
              "#ed7953"
             ],
             [
              0.7777777777777778,
              "#fb9f3a"
             ],
             [
              0.8888888888888888,
              "#fdca26"
             ],
             [
              1,
              "#f0f921"
             ]
            ],
            "type": "histogram2d"
           }
          ],
          "histogram2dcontour": [
           {
            "colorbar": {
             "outlinewidth": 0,
             "ticks": ""
            },
            "colorscale": [
             [
              0,
              "#0d0887"
             ],
             [
              0.1111111111111111,
              "#46039f"
             ],
             [
              0.2222222222222222,
              "#7201a8"
             ],
             [
              0.3333333333333333,
              "#9c179e"
             ],
             [
              0.4444444444444444,
              "#bd3786"
             ],
             [
              0.5555555555555556,
              "#d8576b"
             ],
             [
              0.6666666666666666,
              "#ed7953"
             ],
             [
              0.7777777777777778,
              "#fb9f3a"
             ],
             [
              0.8888888888888888,
              "#fdca26"
             ],
             [
              1,
              "#f0f921"
             ]
            ],
            "type": "histogram2dcontour"
           }
          ],
          "mesh3d": [
           {
            "colorbar": {
             "outlinewidth": 0,
             "ticks": ""
            },
            "type": "mesh3d"
           }
          ],
          "parcoords": [
           {
            "line": {
             "colorbar": {
              "outlinewidth": 0,
              "ticks": ""
             }
            },
            "type": "parcoords"
           }
          ],
          "pie": [
           {
            "automargin": true,
            "type": "pie"
           }
          ],
          "scatter": [
           {
            "fillpattern": {
             "fillmode": "overlay",
             "size": 10,
             "solidity": 0.2
            },
            "type": "scatter"
           }
          ],
          "scatter3d": [
           {
            "line": {
             "colorbar": {
              "outlinewidth": 0,
              "ticks": ""
             }
            },
            "marker": {
             "colorbar": {
              "outlinewidth": 0,
              "ticks": ""
             }
            },
            "type": "scatter3d"
           }
          ],
          "scattercarpet": [
           {
            "marker": {
             "colorbar": {
              "outlinewidth": 0,
              "ticks": ""
             }
            },
            "type": "scattercarpet"
           }
          ],
          "scattergeo": [
           {
            "marker": {
             "colorbar": {
              "outlinewidth": 0,
              "ticks": ""
             }
            },
            "type": "scattergeo"
           }
          ],
          "scattergl": [
           {
            "marker": {
             "colorbar": {
              "outlinewidth": 0,
              "ticks": ""
             }
            },
            "type": "scattergl"
           }
          ],
          "scattermap": [
           {
            "marker": {
             "colorbar": {
              "outlinewidth": 0,
              "ticks": ""
             }
            },
            "type": "scattermap"
           }
          ],
          "scattermapbox": [
           {
            "marker": {
             "colorbar": {
              "outlinewidth": 0,
              "ticks": ""
             }
            },
            "type": "scattermapbox"
           }
          ],
          "scatterpolar": [
           {
            "marker": {
             "colorbar": {
              "outlinewidth": 0,
              "ticks": ""
             }
            },
            "type": "scatterpolar"
           }
          ],
          "scatterpolargl": [
           {
            "marker": {
             "colorbar": {
              "outlinewidth": 0,
              "ticks": ""
             }
            },
            "type": "scatterpolargl"
           }
          ],
          "scatterternary": [
           {
            "marker": {
             "colorbar": {
              "outlinewidth": 0,
              "ticks": ""
             }
            },
            "type": "scatterternary"
           }
          ],
          "surface": [
           {
            "colorbar": {
             "outlinewidth": 0,
             "ticks": ""
            },
            "colorscale": [
             [
              0,
              "#0d0887"
             ],
             [
              0.1111111111111111,
              "#46039f"
             ],
             [
              0.2222222222222222,
              "#7201a8"
             ],
             [
              0.3333333333333333,
              "#9c179e"
             ],
             [
              0.4444444444444444,
              "#bd3786"
             ],
             [
              0.5555555555555556,
              "#d8576b"
             ],
             [
              0.6666666666666666,
              "#ed7953"
             ],
             [
              0.7777777777777778,
              "#fb9f3a"
             ],
             [
              0.8888888888888888,
              "#fdca26"
             ],
             [
              1,
              "#f0f921"
             ]
            ],
            "type": "surface"
           }
          ],
          "table": [
           {
            "cells": {
             "fill": {
              "color": "#EBF0F8"
             },
             "line": {
              "color": "white"
             }
            },
            "header": {
             "fill": {
              "color": "#C8D4E3"
             },
             "line": {
              "color": "white"
             }
            },
            "type": "table"
           }
          ]
         },
         "layout": {
          "annotationdefaults": {
           "arrowcolor": "#2a3f5f",
           "arrowhead": 0,
           "arrowwidth": 1
          },
          "autotypenumbers": "strict",
          "coloraxis": {
           "colorbar": {
            "outlinewidth": 0,
            "ticks": ""
           }
          },
          "colorscale": {
           "diverging": [
            [
             0,
             "#8e0152"
            ],
            [
             0.1,
             "#c51b7d"
            ],
            [
             0.2,
             "#de77ae"
            ],
            [
             0.3,
             "#f1b6da"
            ],
            [
             0.4,
             "#fde0ef"
            ],
            [
             0.5,
             "#f7f7f7"
            ],
            [
             0.6,
             "#e6f5d0"
            ],
            [
             0.7,
             "#b8e186"
            ],
            [
             0.8,
             "#7fbc41"
            ],
            [
             0.9,
             "#4d9221"
            ],
            [
             1,
             "#276419"
            ]
           ],
           "sequential": [
            [
             0,
             "#0d0887"
            ],
            [
             0.1111111111111111,
             "#46039f"
            ],
            [
             0.2222222222222222,
             "#7201a8"
            ],
            [
             0.3333333333333333,
             "#9c179e"
            ],
            [
             0.4444444444444444,
             "#bd3786"
            ],
            [
             0.5555555555555556,
             "#d8576b"
            ],
            [
             0.6666666666666666,
             "#ed7953"
            ],
            [
             0.7777777777777778,
             "#fb9f3a"
            ],
            [
             0.8888888888888888,
             "#fdca26"
            ],
            [
             1,
             "#f0f921"
            ]
           ],
           "sequentialminus": [
            [
             0,
             "#0d0887"
            ],
            [
             0.1111111111111111,
             "#46039f"
            ],
            [
             0.2222222222222222,
             "#7201a8"
            ],
            [
             0.3333333333333333,
             "#9c179e"
            ],
            [
             0.4444444444444444,
             "#bd3786"
            ],
            [
             0.5555555555555556,
             "#d8576b"
            ],
            [
             0.6666666666666666,
             "#ed7953"
            ],
            [
             0.7777777777777778,
             "#fb9f3a"
            ],
            [
             0.8888888888888888,
             "#fdca26"
            ],
            [
             1,
             "#f0f921"
            ]
           ]
          },
          "colorway": [
           "#636efa",
           "#EF553B",
           "#00cc96",
           "#ab63fa",
           "#FFA15A",
           "#19d3f3",
           "#FF6692",
           "#B6E880",
           "#FF97FF",
           "#FECB52"
          ],
          "font": {
           "color": "#2a3f5f"
          },
          "geo": {
           "bgcolor": "white",
           "lakecolor": "white",
           "landcolor": "#E5ECF6",
           "showlakes": true,
           "showland": true,
           "subunitcolor": "white"
          },
          "hoverlabel": {
           "align": "left"
          },
          "hovermode": "closest",
          "mapbox": {
           "style": "light"
          },
          "paper_bgcolor": "white",
          "plot_bgcolor": "#E5ECF6",
          "polar": {
           "angularaxis": {
            "gridcolor": "white",
            "linecolor": "white",
            "ticks": ""
           },
           "bgcolor": "#E5ECF6",
           "radialaxis": {
            "gridcolor": "white",
            "linecolor": "white",
            "ticks": ""
           }
          },
          "scene": {
           "xaxis": {
            "backgroundcolor": "#E5ECF6",
            "gridcolor": "white",
            "gridwidth": 2,
            "linecolor": "white",
            "showbackground": true,
            "ticks": "",
            "zerolinecolor": "white"
           },
           "yaxis": {
            "backgroundcolor": "#E5ECF6",
            "gridcolor": "white",
            "gridwidth": 2,
            "linecolor": "white",
            "showbackground": true,
            "ticks": "",
            "zerolinecolor": "white"
           },
           "zaxis": {
            "backgroundcolor": "#E5ECF6",
            "gridcolor": "white",
            "gridwidth": 2,
            "linecolor": "white",
            "showbackground": true,
            "ticks": "",
            "zerolinecolor": "white"
           }
          },
          "shapedefaults": {
           "line": {
            "color": "#2a3f5f"
           }
          },
          "ternary": {
           "aaxis": {
            "gridcolor": "white",
            "linecolor": "white",
            "ticks": ""
           },
           "baxis": {
            "gridcolor": "white",
            "linecolor": "white",
            "ticks": ""
           },
           "bgcolor": "#E5ECF6",
           "caxis": {
            "gridcolor": "white",
            "linecolor": "white",
            "ticks": ""
           }
          },
          "title": {
           "x": 0.05
          },
          "xaxis": {
           "automargin": true,
           "gridcolor": "white",
           "linecolor": "white",
           "ticks": "",
           "title": {
            "standoff": 15
           },
           "zerolinecolor": "white",
           "zerolinewidth": 2
          },
          "yaxis": {
           "automargin": true,
           "gridcolor": "white",
           "linecolor": "white",
           "ticks": "",
           "title": {
            "standoff": 15
           },
           "zerolinecolor": "white",
           "zerolinewidth": 2
          }
         }
        },
        "title": {
         "text": "Monthly Net Savings"
        },
        "xaxis": {
         "anchor": "y",
         "domain": [
          0,
          1
         ],
         "title": {
          "text": "Date"
         }
        },
        "yaxis": {
         "anchor": "x",
         "domain": [
          0,
          1
         ],
         "title": {
          "text": "Net Savings ()"
         }
        }
       }
      },
      "text/html": [
       "<div>                        <script type=\"text/javascript\">window.PlotlyConfig = {MathJaxConfig: 'local'};</script>\n",
       "        <script charset=\"utf-8\" src=\"https://cdn.plot.ly/plotly-3.0.1.min.js\"></script>                <div id=\"05e5aee8-27a6-4baa-8b24-311e9176704d\" class=\"plotly-graph-div\" style=\"height:100%; width:100%;\"></div>            <script type=\"text/javascript\">                window.PLOTLYENV=window.PLOTLYENV || {};                                if (document.getElementById(\"05e5aee8-27a6-4baa-8b24-311e9176704d\")) {                    Plotly.newPlot(                        \"05e5aee8-27a6-4baa-8b24-311e9176704d\",                        [{\"hovertemplate\":\"Date=%{x}\\u003cbr\\u003eNet Savings=%{y}\\u003cextra\\u003e\\u003c\\u002fextra\\u003e\",\"legendgroup\":\"\",\"marker\":{\"color\":\"#636efa\",\"pattern\":{\"shape\":\"\"}},\"name\":\"\",\"orientation\":\"v\",\"showlegend\":false,\"textposition\":\"auto\",\"x\":[\"2022-12-31T00:00:00.000000000\",\"2023-01-31T00:00:00.000000000\",\"2023-02-28T00:00:00.000000000\",\"2023-03-31T00:00:00.000000000\",\"2023-04-30T00:00:00.000000000\",\"2023-05-31T00:00:00.000000000\",\"2023-06-30T00:00:00.000000000\",\"2023-07-31T00:00:00.000000000\",\"2023-08-31T00:00:00.000000000\",\"2023-09-30T00:00:00.000000000\",\"2023-10-31T00:00:00.000000000\",\"2023-11-30T00:00:00.000000000\",\"2023-12-31T00:00:00.000000000\"],\"xaxis\":\"x\",\"y\":{\"dtype\":\"f8\",\"bdata\":\"7FG4HgV6z0CcmZmZWSrJQMT1KFyvSsZAXo\\u002fC9cjzzUDsUbgeRQ\\u002fSQJmZmZl5TsFAnJmZmTkJykBzPQrXI8HLQEbhehQOD81A9ihcj7Ik3kCkcD0KZ5TcwEjhehQuKrBAPgrXo\\u002fAP2EA=\"},\"yaxis\":\"y\",\"type\":\"bar\"}],                        {\"template\":{\"data\":{\"histogram2dcontour\":[{\"type\":\"histogram2dcontour\",\"colorbar\":{\"outlinewidth\":0,\"ticks\":\"\"},\"colorscale\":[[0.0,\"#0d0887\"],[0.1111111111111111,\"#46039f\"],[0.2222222222222222,\"#7201a8\"],[0.3333333333333333,\"#9c179e\"],[0.4444444444444444,\"#bd3786\"],[0.5555555555555556,\"#d8576b\"],[0.6666666666666666,\"#ed7953\"],[0.7777777777777778,\"#fb9f3a\"],[0.8888888888888888,\"#fdca26\"],[1.0,\"#f0f921\"]]}],\"choropleth\":[{\"type\":\"choropleth\",\"colorbar\":{\"outlinewidth\":0,\"ticks\":\"\"}}],\"histogram2d\":[{\"type\":\"histogram2d\",\"colorbar\":{\"outlinewidth\":0,\"ticks\":\"\"},\"colorscale\":[[0.0,\"#0d0887\"],[0.1111111111111111,\"#46039f\"],[0.2222222222222222,\"#7201a8\"],[0.3333333333333333,\"#9c179e\"],[0.4444444444444444,\"#bd3786\"],[0.5555555555555556,\"#d8576b\"],[0.6666666666666666,\"#ed7953\"],[0.7777777777777778,\"#fb9f3a\"],[0.8888888888888888,\"#fdca26\"],[1.0,\"#f0f921\"]]}],\"heatmap\":[{\"type\":\"heatmap\",\"colorbar\":{\"outlinewidth\":0,\"ticks\":\"\"},\"colorscale\":[[0.0,\"#0d0887\"],[0.1111111111111111,\"#46039f\"],[0.2222222222222222,\"#7201a8\"],[0.3333333333333333,\"#9c179e\"],[0.4444444444444444,\"#bd3786\"],[0.5555555555555556,\"#d8576b\"],[0.6666666666666666,\"#ed7953\"],[0.7777777777777778,\"#fb9f3a\"],[0.8888888888888888,\"#fdca26\"],[1.0,\"#f0f921\"]]}],\"contourcarpet\":[{\"type\":\"contourcarpet\",\"colorbar\":{\"outlinewidth\":0,\"ticks\":\"\"}}],\"contour\":[{\"type\":\"contour\",\"colorbar\":{\"outlinewidth\":0,\"ticks\":\"\"},\"colorscale\":[[0.0,\"#0d0887\"],[0.1111111111111111,\"#46039f\"],[0.2222222222222222,\"#7201a8\"],[0.3333333333333333,\"#9c179e\"],[0.4444444444444444,\"#bd3786\"],[0.5555555555555556,\"#d8576b\"],[0.6666666666666666,\"#ed7953\"],[0.7777777777777778,\"#fb9f3a\"],[0.8888888888888888,\"#fdca26\"],[1.0,\"#f0f921\"]]}],\"surface\":[{\"type\":\"surface\",\"colorbar\":{\"outlinewidth\":0,\"ticks\":\"\"},\"colorscale\":[[0.0,\"#0d0887\"],[0.1111111111111111,\"#46039f\"],[0.2222222222222222,\"#7201a8\"],[0.3333333333333333,\"#9c179e\"],[0.4444444444444444,\"#bd3786\"],[0.5555555555555556,\"#d8576b\"],[0.6666666666666666,\"#ed7953\"],[0.7777777777777778,\"#fb9f3a\"],[0.8888888888888888,\"#fdca26\"],[1.0,\"#f0f921\"]]}],\"mesh3d\":[{\"type\":\"mesh3d\",\"colorbar\":{\"outlinewidth\":0,\"ticks\":\"\"}}],\"scatter\":[{\"fillpattern\":{\"fillmode\":\"overlay\",\"size\":10,\"solidity\":0.2},\"type\":\"scatter\"}],\"parcoords\":[{\"type\":\"parcoords\",\"line\":{\"colorbar\":{\"outlinewidth\":0,\"ticks\":\"\"}}}],\"scatterpolargl\":[{\"type\":\"scatterpolargl\",\"marker\":{\"colorbar\":{\"outlinewidth\":0,\"ticks\":\"\"}}}],\"bar\":[{\"error_x\":{\"color\":\"#2a3f5f\"},\"error_y\":{\"color\":\"#2a3f5f\"},\"marker\":{\"line\":{\"color\":\"#E5ECF6\",\"width\":0.5},\"pattern\":{\"fillmode\":\"overlay\",\"size\":10,\"solidity\":0.2}},\"type\":\"bar\"}],\"scattergeo\":[{\"type\":\"scattergeo\",\"marker\":{\"colorbar\":{\"outlinewidth\":0,\"ticks\":\"\"}}}],\"scatterpolar\":[{\"type\":\"scatterpolar\",\"marker\":{\"colorbar\":{\"outlinewidth\":0,\"ticks\":\"\"}}}],\"histogram\":[{\"marker\":{\"pattern\":{\"fillmode\":\"overlay\",\"size\":10,\"solidity\":0.2}},\"type\":\"histogram\"}],\"scattergl\":[{\"type\":\"scattergl\",\"marker\":{\"colorbar\":{\"outlinewidth\":0,\"ticks\":\"\"}}}],\"scatter3d\":[{\"type\":\"scatter3d\",\"line\":{\"colorbar\":{\"outlinewidth\":0,\"ticks\":\"\"}},\"marker\":{\"colorbar\":{\"outlinewidth\":0,\"ticks\":\"\"}}}],\"scattermap\":[{\"type\":\"scattermap\",\"marker\":{\"colorbar\":{\"outlinewidth\":0,\"ticks\":\"\"}}}],\"scattermapbox\":[{\"type\":\"scattermapbox\",\"marker\":{\"colorbar\":{\"outlinewidth\":0,\"ticks\":\"\"}}}],\"scatterternary\":[{\"type\":\"scatterternary\",\"marker\":{\"colorbar\":{\"outlinewidth\":0,\"ticks\":\"\"}}}],\"scattercarpet\":[{\"type\":\"scattercarpet\",\"marker\":{\"colorbar\":{\"outlinewidth\":0,\"ticks\":\"\"}}}],\"carpet\":[{\"aaxis\":{\"endlinecolor\":\"#2a3f5f\",\"gridcolor\":\"white\",\"linecolor\":\"white\",\"minorgridcolor\":\"white\",\"startlinecolor\":\"#2a3f5f\"},\"baxis\":{\"endlinecolor\":\"#2a3f5f\",\"gridcolor\":\"white\",\"linecolor\":\"white\",\"minorgridcolor\":\"white\",\"startlinecolor\":\"#2a3f5f\"},\"type\":\"carpet\"}],\"table\":[{\"cells\":{\"fill\":{\"color\":\"#EBF0F8\"},\"line\":{\"color\":\"white\"}},\"header\":{\"fill\":{\"color\":\"#C8D4E3\"},\"line\":{\"color\":\"white\"}},\"type\":\"table\"}],\"barpolar\":[{\"marker\":{\"line\":{\"color\":\"#E5ECF6\",\"width\":0.5},\"pattern\":{\"fillmode\":\"overlay\",\"size\":10,\"solidity\":0.2}},\"type\":\"barpolar\"}],\"pie\":[{\"automargin\":true,\"type\":\"pie\"}]},\"layout\":{\"autotypenumbers\":\"strict\",\"colorway\":[\"#636efa\",\"#EF553B\",\"#00cc96\",\"#ab63fa\",\"#FFA15A\",\"#19d3f3\",\"#FF6692\",\"#B6E880\",\"#FF97FF\",\"#FECB52\"],\"font\":{\"color\":\"#2a3f5f\"},\"hovermode\":\"closest\",\"hoverlabel\":{\"align\":\"left\"},\"paper_bgcolor\":\"white\",\"plot_bgcolor\":\"#E5ECF6\",\"polar\":{\"bgcolor\":\"#E5ECF6\",\"angularaxis\":{\"gridcolor\":\"white\",\"linecolor\":\"white\",\"ticks\":\"\"},\"radialaxis\":{\"gridcolor\":\"white\",\"linecolor\":\"white\",\"ticks\":\"\"}},\"ternary\":{\"bgcolor\":\"#E5ECF6\",\"aaxis\":{\"gridcolor\":\"white\",\"linecolor\":\"white\",\"ticks\":\"\"},\"baxis\":{\"gridcolor\":\"white\",\"linecolor\":\"white\",\"ticks\":\"\"},\"caxis\":{\"gridcolor\":\"white\",\"linecolor\":\"white\",\"ticks\":\"\"}},\"coloraxis\":{\"colorbar\":{\"outlinewidth\":0,\"ticks\":\"\"}},\"colorscale\":{\"sequential\":[[0.0,\"#0d0887\"],[0.1111111111111111,\"#46039f\"],[0.2222222222222222,\"#7201a8\"],[0.3333333333333333,\"#9c179e\"],[0.4444444444444444,\"#bd3786\"],[0.5555555555555556,\"#d8576b\"],[0.6666666666666666,\"#ed7953\"],[0.7777777777777778,\"#fb9f3a\"],[0.8888888888888888,\"#fdca26\"],[1.0,\"#f0f921\"]],\"sequentialminus\":[[0.0,\"#0d0887\"],[0.1111111111111111,\"#46039f\"],[0.2222222222222222,\"#7201a8\"],[0.3333333333333333,\"#9c179e\"],[0.4444444444444444,\"#bd3786\"],[0.5555555555555556,\"#d8576b\"],[0.6666666666666666,\"#ed7953\"],[0.7777777777777778,\"#fb9f3a\"],[0.8888888888888888,\"#fdca26\"],[1.0,\"#f0f921\"]],\"diverging\":[[0,\"#8e0152\"],[0.1,\"#c51b7d\"],[0.2,\"#de77ae\"],[0.3,\"#f1b6da\"],[0.4,\"#fde0ef\"],[0.5,\"#f7f7f7\"],[0.6,\"#e6f5d0\"],[0.7,\"#b8e186\"],[0.8,\"#7fbc41\"],[0.9,\"#4d9221\"],[1,\"#276419\"]]},\"xaxis\":{\"gridcolor\":\"white\",\"linecolor\":\"white\",\"ticks\":\"\",\"title\":{\"standoff\":15},\"zerolinecolor\":\"white\",\"automargin\":true,\"zerolinewidth\":2},\"yaxis\":{\"gridcolor\":\"white\",\"linecolor\":\"white\",\"ticks\":\"\",\"title\":{\"standoff\":15},\"zerolinecolor\":\"white\",\"automargin\":true,\"zerolinewidth\":2},\"scene\":{\"xaxis\":{\"backgroundcolor\":\"#E5ECF6\",\"gridcolor\":\"white\",\"linecolor\":\"white\",\"showbackground\":true,\"ticks\":\"\",\"zerolinecolor\":\"white\",\"gridwidth\":2},\"yaxis\":{\"backgroundcolor\":\"#E5ECF6\",\"gridcolor\":\"white\",\"linecolor\":\"white\",\"showbackground\":true,\"ticks\":\"\",\"zerolinecolor\":\"white\",\"gridwidth\":2},\"zaxis\":{\"backgroundcolor\":\"#E5ECF6\",\"gridcolor\":\"white\",\"linecolor\":\"white\",\"showbackground\":true,\"ticks\":\"\",\"zerolinecolor\":\"white\",\"gridwidth\":2}},\"shapedefaults\":{\"line\":{\"color\":\"#2a3f5f\"}},\"annotationdefaults\":{\"arrowcolor\":\"#2a3f5f\",\"arrowhead\":0,\"arrowwidth\":1},\"geo\":{\"bgcolor\":\"white\",\"landcolor\":\"#E5ECF6\",\"subunitcolor\":\"white\",\"showland\":true,\"showlakes\":true,\"lakecolor\":\"white\"},\"title\":{\"x\":0.05},\"mapbox\":{\"style\":\"light\"}}},\"xaxis\":{\"anchor\":\"y\",\"domain\":[0.0,1.0],\"title\":{\"text\":\"Date\"}},\"yaxis\":{\"anchor\":\"x\",\"domain\":[0.0,1.0],\"title\":{\"text\":\"Net Savings ()\"}},\"legend\":{\"tracegroupgap\":0},\"title\":{\"text\":\"Monthly Net Savings\"},\"barmode\":\"relative\",\"shapes\":[{\"line\":{\"color\":\"red\",\"dash\":\"dash\"},\"type\":\"line\",\"x0\":0,\"x1\":1,\"xref\":\"x domain\",\"y0\":0,\"y1\":0,\"yref\":\"y\"}]},                        {\"responsive\": true}                    )                };            </script>        </div>"
      ],
      "text/plain": [
       "Figure({\n",
       "    'data': [{'hovertemplate': 'Date=%{x}<br>Net Savings=%{y}<extra></extra>',\n",
       "              'legendgroup': '',\n",
       "              'marker': {'color': '#636efa', 'pattern': {'shape': ''}},\n",
       "              'name': '',\n",
       "              'orientation': 'v',\n",
       "              'showlegend': False,\n",
       "              'textposition': 'auto',\n",
       "              'type': 'bar',\n",
       "              'x': array(['2022-12-31T00:00:00.000000000', '2023-01-31T00:00:00.000000000',\n",
       "                          '2023-02-28T00:00:00.000000000', '2023-03-31T00:00:00.000000000',\n",
       "                          '2023-04-30T00:00:00.000000000', '2023-05-31T00:00:00.000000000',\n",
       "                          '2023-06-30T00:00:00.000000000', '2023-07-31T00:00:00.000000000',\n",
       "                          '2023-08-31T00:00:00.000000000', '2023-09-30T00:00:00.000000000',\n",
       "                          '2023-10-31T00:00:00.000000000', '2023-11-30T00:00:00.000000000',\n",
       "                          '2023-12-31T00:00:00.000000000'], dtype='datetime64[ns]'),\n",
       "              'xaxis': 'x',\n",
       "              'y': {'bdata': ('7FG4HgV6z0CcmZmZWSrJQMT1KFyvSs' ... '0KZ5TcwEjhehQuKrBAPgrXo/AP2EA='),\n",
       "                    'dtype': 'f8'},\n",
       "              'yaxis': 'y'}],\n",
       "    'layout': {'barmode': 'relative',\n",
       "               'legend': {'tracegroupgap': 0},\n",
       "               'shapes': [{'line': {'color': 'red', 'dash': 'dash'},\n",
       "                           'type': 'line',\n",
       "                           'x0': 0,\n",
       "                           'x1': 1,\n",
       "                           'xref': 'x domain',\n",
       "                           'y0': 0,\n",
       "                           'y1': 0,\n",
       "                           'yref': 'y'}],\n",
       "               'template': '...',\n",
       "               'title': {'text': 'Monthly Net Savings'},\n",
       "               'xaxis': {'anchor': 'y', 'domain': [0.0, 1.0], 'title': {'text': 'Date'}},\n",
       "               'yaxis': {'anchor': 'x', 'domain': [0.0, 1.0], 'title': {'text': 'Net Savings ()'}}}\n",
       "})"
      ]
     },
     "execution_count": 17,
     "metadata": {},
     "output_type": "execute_result"
    }
   ],
   "source": [
    "if not monthly_net_savings.empty:\n",
    "    fig_net_savings = px.bar(\n",
    "        monthly_net_savings, \n",
    "        x='Date',  # Make sure 'Date' is the x-axis\n",
    "        y='Net Savings', # Make sure 'Net Savings' is the y-axis\n",
    "        title=\"Monthly Net Savings\"\n",
    "    )\n",
    "    fig_net_savings.update_layout(yaxis_title=f\"Net Savings ()\")\n",
    "    fig_net_savings.add_hline(y=0, line_dash=\"dash\", line_color=\"red\")\n",
    "fig_net_savings"
   ]
  },
  {
   "cell_type": "code",
   "execution_count": null,
   "metadata": {},
   "outputs": [],
   "source": []
  }
 ],
 "metadata": {
  "kernelspec": {
   "display_name": "venv_fin",
   "language": "python",
   "name": "python3"
  },
  "language_info": {
   "codemirror_mode": {
    "name": "ipython",
    "version": 3
   },
   "file_extension": ".py",
   "mimetype": "text/x-python",
   "name": "python",
   "nbconvert_exporter": "python",
   "pygments_lexer": "ipython3",
   "version": "3.11.9"
  }
 },
 "nbformat": 4,
 "nbformat_minor": 2
}
